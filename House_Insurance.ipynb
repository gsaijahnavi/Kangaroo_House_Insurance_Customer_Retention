{
  "cells": [
    {
      "cell_type": "markdown",
      "metadata": {
        "id": "2dkMG7XF2_ob"
      },
      "source": [
        "# Travelers | NESS 2022 Hackathon Competition\n",
        "##   Property Policy Retention"
      ]
    },
    {
      "cell_type": "markdown",
      "metadata": {
        "id": "Lx2hR1RD2_od"
      },
      "source": [
        "## Preprocessing"
      ]
    },
    {
      "cell_type": "code",
      "execution_count": null,
      "metadata": {
        "id": "RvXlcver2_od"
      },
      "outputs": [],
      "source": [
        "import pandas as pd\n",
        "import numpy as np\n",
        "import seaborn as sns\n",
        "from pylab import *\n",
        "import matplotlib.pyplot as plt\n",
        "from sklearn.model_selection import train_test_split\n",
        "from sklearn.preprocessing import LabelEncoder\n",
        "from xgboost.sklearn import XGBClassifier\n",
        "import xgboost as xgb\n",
        "from sklearn.metrics import accuracy_score\n",
        "from sklearn.metrics import confusion_matrix"
      ]
    },
    {
      "cell_type": "code",
      "execution_count": null,
      "metadata": {
        "id": "zq9IXRXa2_oe"
      },
      "outputs": [],
      "source": [
        "# Reading datasets\n",
        "train = pd.read_csv('/cis/home/achatto1/new_project/trv-ness-hackathon-2022/train.csv')\n"
      ]
    },
    {
      "cell_type": "code",
      "execution_count": null,
      "metadata": {
        "id": "EbXJhwgr2_oe",
        "outputId": "fc4b8dc7-d055-47ce-e1e0-9da3837f1f84"
      },
      "outputs": [
        {
          "name": "stdout",
          "output_type": "stream",
          "text": [
            "<class 'pandas.core.frame.DataFrame'>\n",
            "RangeIndex: 1048575 entries, 0 to 1048574\n",
            "Data columns (total 18 columns):\n",
            " #   Column             Non-Null Count    Dtype  \n",
            "---  ------             --------------    -----  \n",
            " 0   id                 1048575 non-null  int64  \n",
            " 1   cancel             1048575 non-null  int64  \n",
            " 2   year               1048575 non-null  int64  \n",
            " 3   zip.code           1047624 non-null  float64\n",
            " 4   house.color        1047630 non-null  object \n",
            " 5   ni.age             1047573 non-null  float64\n",
            " 6   len.at.res         1047608 non-null  float64\n",
            " 7   credit             1047668 non-null  object \n",
            " 8   coverage.type      1047595 non-null  object \n",
            " 9   dwelling.type      1047582 non-null  object \n",
            " 10  premium            1047618 non-null  float64\n",
            " 11  sales.channel      1047550 non-null  object \n",
            " 12  ni.gender          1047615 non-null  object \n",
            " 13  ni.marital.status  1047581 non-null  float64\n",
            " 14  n.adults           1047644 non-null  float64\n",
            " 15  n.children         1047637 non-null  float64\n",
            " 16  tenure             1047595 non-null  float64\n",
            " 17  claim.ind          1047589 non-null  float64\n",
            "dtypes: float64(9), int64(3), object(6)\n",
            "memory usage: 144.0+ MB\n"
          ]
        }
      ],
      "source": [
        "train.info()\n",
        "# house.color, credit, coverage.type, dwelling.type, sales.channel, ni.gender are categorical variables\n",
        "# id is not useful for this analysis.\n",
        "# cancel is our target variable"
      ]
    },
    {
      "cell_type": "code",
      "execution_count": null,
      "metadata": {
        "id": "rqTLr0QO2_oe",
        "outputId": "4e2a0cf8-def3-46a6-bb14-e45006a6c9fb"
      },
      "outputs": [
        {
          "data": {
            "text/plain": [
              "id                   0\n",
              "cancel               0\n",
              "year                 0\n",
              "zip.code             0\n",
              "house.color          0\n",
              "ni.age               0\n",
              "len.at.res           0\n",
              "credit               0\n",
              "coverage.type        0\n",
              "dwelling.type        0\n",
              "premium              0\n",
              "sales.channel        0\n",
              "ni.gender            0\n",
              "ni.marital.status    0\n",
              "n.adults             0\n",
              "n.children           0\n",
              "tenure               0\n",
              "claim.ind            0\n",
              "dtype: int64"
            ]
          },
          "execution_count": 5,
          "metadata": {},
          "output_type": "execute_result"
        }
      ],
      "source": [
        "# Drop Rows corresponding Null Values\n",
        "train.isnull().sum()\n",
        "train.dropna(inplace=True)\n",
        "train.isnull().sum()"
      ]
    },
    {
      "cell_type": "code",
      "execution_count": null,
      "metadata": {
        "id": "wkyAOwd82_of",
        "outputId": "f55bc3c2-eb2d-4f3f-8936-9523dbb6214f"
      },
      "outputs": [
        {
          "data": {
            "text/html": [
              "<div>\n",
              "<style scoped>\n",
              "    .dataframe tbody tr th:only-of-type {\n",
              "        vertical-align: middle;\n",
              "    }\n",
              "\n",
              "    .dataframe tbody tr th {\n",
              "        vertical-align: top;\n",
              "    }\n",
              "\n",
              "    .dataframe thead th {\n",
              "        text-align: right;\n",
              "    }\n",
              "</style>\n",
              "<table border=\"1\" class=\"dataframe\">\n",
              "  <thead>\n",
              "    <tr style=\"text-align: right;\">\n",
              "      <th></th>\n",
              "      <th>cancel</th>\n",
              "      <th>year</th>\n",
              "      <th>zip.code</th>\n",
              "      <th>house.color</th>\n",
              "      <th>ni.age</th>\n",
              "      <th>len.at.res</th>\n",
              "      <th>credit</th>\n",
              "      <th>coverage.type</th>\n",
              "      <th>dwelling.type</th>\n",
              "      <th>premium</th>\n",
              "      <th>sales.channel</th>\n",
              "      <th>ni.gender</th>\n",
              "      <th>ni.marital.status</th>\n",
              "      <th>n.adults</th>\n",
              "      <th>n.children</th>\n",
              "      <th>tenure</th>\n",
              "      <th>claim.ind</th>\n",
              "    </tr>\n",
              "  </thead>\n",
              "  <tbody>\n",
              "    <tr>\n",
              "      <th>0</th>\n",
              "      <td>0</td>\n",
              "      <td>2013</td>\n",
              "      <td>98004.0</td>\n",
              "      <td>blue</td>\n",
              "      <td>37.0</td>\n",
              "      <td>18.000000</td>\n",
              "      <td>high</td>\n",
              "      <td>C</td>\n",
              "      <td>Tenant</td>\n",
              "      <td>950.507336</td>\n",
              "      <td>Broker</td>\n",
              "      <td>F</td>\n",
              "      <td>0.0</td>\n",
              "      <td>2.0</td>\n",
              "      <td>0.0</td>\n",
              "      <td>15.0</td>\n",
              "      <td>0.0</td>\n",
              "    </tr>\n",
              "    <tr>\n",
              "      <th>1</th>\n",
              "      <td>0</td>\n",
              "      <td>2013</td>\n",
              "      <td>85017.0</td>\n",
              "      <td>white</td>\n",
              "      <td>40.0</td>\n",
              "      <td>17.000000</td>\n",
              "      <td>medium</td>\n",
              "      <td>A</td>\n",
              "      <td>Condo</td>\n",
              "      <td>909.346046</td>\n",
              "      <td>Broker</td>\n",
              "      <td>F</td>\n",
              "      <td>1.0</td>\n",
              "      <td>5.0</td>\n",
              "      <td>0.0</td>\n",
              "      <td>15.0</td>\n",
              "      <td>0.0</td>\n",
              "    </tr>\n",
              "    <tr>\n",
              "      <th>2</th>\n",
              "      <td>0</td>\n",
              "      <td>2013</td>\n",
              "      <td>80021.0</td>\n",
              "      <td>white</td>\n",
              "      <td>45.0</td>\n",
              "      <td>14.000000</td>\n",
              "      <td>high</td>\n",
              "      <td>A</td>\n",
              "      <td>House</td>\n",
              "      <td>897.084502</td>\n",
              "      <td>Phone</td>\n",
              "      <td>M</td>\n",
              "      <td>0.0</td>\n",
              "      <td>1.0</td>\n",
              "      <td>0.0</td>\n",
              "      <td>14.0</td>\n",
              "      <td>0.0</td>\n",
              "    </tr>\n",
              "    <tr>\n",
              "      <th>3</th>\n",
              "      <td>0</td>\n",
              "      <td>2013</td>\n",
              "      <td>85002.0</td>\n",
              "      <td>red</td>\n",
              "      <td>45.0</td>\n",
              "      <td>24.366136</td>\n",
              "      <td>high</td>\n",
              "      <td>A</td>\n",
              "      <td>House</td>\n",
              "      <td>979.039007</td>\n",
              "      <td>Phone</td>\n",
              "      <td>M</td>\n",
              "      <td>0.0</td>\n",
              "      <td>5.0</td>\n",
              "      <td>0.0</td>\n",
              "      <td>22.0</td>\n",
              "      <td>1.0</td>\n",
              "    </tr>\n",
              "    <tr>\n",
              "      <th>4</th>\n",
              "      <td>0</td>\n",
              "      <td>2013</td>\n",
              "      <td>50001.0</td>\n",
              "      <td>yellow</td>\n",
              "      <td>36.0</td>\n",
              "      <td>16.000000</td>\n",
              "      <td>high</td>\n",
              "      <td>C</td>\n",
              "      <td>House</td>\n",
              "      <td>932.379027</td>\n",
              "      <td>Broker</td>\n",
              "      <td>M</td>\n",
              "      <td>1.0</td>\n",
              "      <td>2.0</td>\n",
              "      <td>4.0</td>\n",
              "      <td>4.0</td>\n",
              "      <td>0.0</td>\n",
              "    </tr>\n",
              "  </tbody>\n",
              "</table>\n",
              "</div>"
            ],
            "text/plain": [
              "   cancel  year  zip.code house.color  ni.age  len.at.res  credit  \\\n",
              "0       0  2013   98004.0        blue    37.0   18.000000    high   \n",
              "1       0  2013   85017.0       white    40.0   17.000000  medium   \n",
              "2       0  2013   80021.0       white    45.0   14.000000    high   \n",
              "3       0  2013   85002.0         red    45.0   24.366136    high   \n",
              "4       0  2013   50001.0      yellow    36.0   16.000000    high   \n",
              "\n",
              "  coverage.type dwelling.type     premium sales.channel ni.gender  \\\n",
              "0             C        Tenant  950.507336        Broker         F   \n",
              "1             A         Condo  909.346046        Broker         F   \n",
              "2             A         House  897.084502         Phone         M   \n",
              "3             A         House  979.039007         Phone         M   \n",
              "4             C         House  932.379027        Broker         M   \n",
              "\n",
              "   ni.marital.status  n.adults  n.children  tenure  claim.ind  \n",
              "0                0.0       2.0         0.0    15.0        0.0  \n",
              "1                1.0       5.0         0.0    15.0        0.0  \n",
              "2                0.0       1.0         0.0    14.0        0.0  \n",
              "3                0.0       5.0         0.0    22.0        1.0  \n",
              "4                1.0       2.0         4.0     4.0        0.0  "
            ]
          },
          "execution_count": 6,
          "metadata": {},
          "output_type": "execute_result"
        }
      ],
      "source": [
        "# Drop ID column\n",
        "train.drop(['id'],axis=1,inplace=True)\n",
        "train.head()"
      ]
    },
    {
      "cell_type": "markdown",
      "metadata": {
        "id": "PyomsouI2_of"
      },
      "source": [
        "#### Outliers in ni.age"
      ]
    },
    {
      "cell_type": "code",
      "execution_count": null,
      "metadata": {
        "id": "WW-TboJ12_of",
        "outputId": "05f531c1-bfd6-442b-ad5f-730a4cd10964"
      },
      "outputs": [
        {
          "name": "stderr",
          "output_type": "stream",
          "text": [
            "/cis/home/achatto1/anaconda3/lib/python3.8/site-packages/seaborn/_decorators.py:36: FutureWarning: Pass the following variable as a keyword arg: x. From version 0.12, the only valid positional argument will be `data`, and passing other arguments without an explicit keyword will result in an error or misinterpretation.\n",
            "  warnings.warn(\n"
          ]
        },
        {
          "data": {
            "text/plain": [
              "<AxesSubplot:xlabel='ni.age', ylabel='Density'>"
            ]
          },
          "execution_count": 7,
          "metadata": {},
          "output_type": "execute_result"
        },
        {
          "data": {
            "image/png": "[encoded data removed]",
            "text/plain": [
              "<Figure size 432x288 with 2 Axes>"
            ]
          },
          "metadata": {
            "needs_background": "light"
          },
          "output_type": "display_data"
        }
      ],
      "source": [
        "# Checking for outliers in ni.age.\n",
        "\n",
        "\n",
        "fig, axes = plt.subplots(2, 1)\n",
        "\n",
        "sns.boxplot(train['ni.age'], ax=axes[0], color='red')\n",
        "sns.kdeplot(train['ni.age'], ax=axes[1], color='red')\n",
        "\n"
      ]
    },
    {
      "cell_type": "code",
      "execution_count": null,
      "metadata": {
        "id": "Sgb6qytE2_of"
      },
      "outputs": [],
      "source": [
        "\n",
        "# In test set there are 2 age values greater than 100, with highest 286.61\n",
        "# In training set there are 858 age values greater than 100, with highest 402.4\n",
        "\n",
        "# There might be cases, where house insurance is named under elderly people, so as to claim benefits of senior citizen\n",
        "# https://getjerry.com/questions/does-my-age-affect-home-insurance\n",
        "sum(train['ni.age'] >  100)\n",
        "sum(train['ni.age'] >  100)\n",
        "\n",
        "# Excluding age values greater than 100.\n",
        "train = train[train['ni.age'] <= 100]\n",
        "\n"
      ]
    },
    {
      "cell_type": "markdown",
      "metadata": {
        "id": "gSHzXR0s2_of"
      },
      "source": [
        "#### Removing -1 observation"
      ]
    },
    {
      "cell_type": "code",
      "execution_count": null,
      "metadata": {
        "id": "-G4x9IxE2_og"
      },
      "outputs": [],
      "source": [
        "train = train[train['cancel']!=-1]"
      ]
    },
    {
      "cell_type": "markdown",
      "metadata": {
        "id": "FZR2uDP62_og"
      },
      "source": [
        "## Feature Engineering"
      ]
    },
    {
      "cell_type": "markdown",
      "metadata": {
        "id": "zZo-wAyT2_og"
      },
      "source": [
        "#### Encoding Zip Code"
      ]
    },
    {
      "cell_type": "code",
      "execution_count": null,
      "metadata": {
        "id": "xIj1rFzE2_og",
        "outputId": "3fd2ef5b-5a6a-4bc0-ba3d-6361d4f0fe27"
      },
      "outputs": [
        {
          "name": "stdout",
          "output_type": "stream",
          "text": [
            "[98000. 85000. 80000. 50000. 15000. 20000.]\n"
          ]
        }
      ],
      "source": [
        "# Encoding Zip Code\n",
        "zip_code = round(train['zip.code'],-3)\n",
        "zone = []\n",
        "\n",
        "print(zip_code.unique())\n",
        "for i in zip_code:\n",
        "    if i==85000.0:\n",
        "        zone.append(2)\n",
        "    elif i==80000.0:\n",
        "        zone.append(3)\n",
        "    elif i==98000.0:\n",
        "        zone.append(1)\n",
        "    elif i==50000.0:\n",
        "        zone.append(6)\n",
        "    elif i==15000.0:\n",
        "        zone.append(5)\n",
        "    else:\n",
        "        zone.append(4)\n",
        "    \n",
        "    \n",
        "train['zone'] = zone\n",
        "#train.drop(['zip.code'],axis=1,inplace=True)"
      ]
    },
    {
      "cell_type": "markdown",
      "metadata": {
        "id": "byPpkwhF2_og"
      },
      "source": [
        "#### Computing Family size"
      ]
    },
    {
      "cell_type": "code",
      "execution_count": null,
      "metadata": {
        "id": "4YQZMqFr2_oh"
      },
      "outputs": [],
      "source": [
        "#### Computing family size.\n",
        "n_total = train['n.adults']+train['n.children']\n",
        "\n",
        "train['n.family'] = n_total\n",
        "\n",
        "#train.drop(['n.children','n.adults'],axis=1,inplace=True)\n",
        "\n",
        "\n",
        "\n"
      ]
    },
    {
      "cell_type": "markdown",
      "metadata": {
        "id": "oTXg8CEO2_oh"
      },
      "source": [
        "#### Number of Year remaining"
      ]
    },
    {
      "cell_type": "code",
      "execution_count": null,
      "metadata": {
        "id": "4gWBNvTt2_oh"
      },
      "outputs": [],
      "source": [
        "total_years_passed_by =2022-train['year']\n",
        "years_remaining=train['tenure']-total_years_passed_by\n",
        "train['years_remaining']=years_remaining"
      ]
    },
    {
      "cell_type": "code",
      "execution_count": null,
      "metadata": {
        "id": "w04n8XGp2_oh"
      },
      "outputs": [],
      "source": [
        "#### Binning years remaining.\n",
        "bin_years_remaining = []\n",
        "for i in years_remaining:\n",
        "    if i <= 0.0:\n",
        "        bin_years_remaining.append('Completed')\n",
        "    elif ((i > 0.0) and (i <= 10.0)):\n",
        "        bin_years_remaining.append('0-10 Years')\n",
        "    elif i > 10.0:\n",
        "        bin_years_remaining.append('> 10 Years')\n",
        "\n",
        "train['bin_years_remaining']=bin_years_remaining"
      ]
    },
    {
      "cell_type": "markdown",
      "metadata": {
        "id": "2i5LnKg02_oh"
      },
      "source": [
        "## Predictors group by target variable"
      ]
    },
    {
      "cell_type": "markdown",
      "metadata": {
        "id": "7Ci7RzIy2_oh"
      },
      "source": [
        "### In this section we will be checking how following categorical variables are affecting our target variable cancel\n",
        "#### 1) house.color\n",
        "#### 2) credit\n",
        "#### 3) coverage.type\n",
        "#### 4) dwelling.type\n",
        "#### 5) sales.channel\n",
        "#### 6) ni.gender\n",
        "#### 7) ni.marital.status\n",
        "#### 8) claim_ind\n",
        "#### 9) zone"
      ]
    },
    {
      "cell_type": "markdown",
      "metadata": {
        "id": "pd0C-8BI2_oh"
      },
      "source": [
        "#### 1)  house.color"
      ]
    },
    {
      "cell_type": "code",
      "execution_count": null,
      "metadata": {
        "scrolled": true,
        "id": "zku5fw4T2_oi",
        "outputId": "b5dff8bc-a60b-49e4-b67f-216cf6a78323"
      },
      "outputs": [
        {
          "data": {
            "text/plain": [
              "<AxesSubplot:title={'center':'house.color vs cancel'}, xlabel='house.color', ylabel='normalized_count'>"
            ]
          },
          "execution_count": 13,
          "metadata": {},
          "output_type": "execute_result"
        },
        {
          "data": {
            "image/png": "[encoded data removed]",
            "text/plain": [
              "<Figure size 432x288 with 1 Axes>"
            ]
          },
          "metadata": {
            "needs_background": "light"
          },
          "output_type": "display_data"
        }
      ],
      "source": [
        "pd.crosstab(index=train['house.color'], columns=train['cancel'],normalize='columns').plot(kind='bar',color={'blue','green','red'},title = 'house.color vs cancel',ylabel='normalized_count')\n",
        "\n",
        "\n"
      ]
    },
    {
      "cell_type": "markdown",
      "metadata": {
        "id": "7nj2y52g2_oi"
      },
      "source": [
        "#### 2) credit\n"
      ]
    },
    {
      "cell_type": "code",
      "execution_count": null,
      "metadata": {
        "id": "ymA8JBfd2_oi",
        "outputId": "bc09fd6b-7fe6-491e-e27a-f4ceb804bb8c"
      },
      "outputs": [
        {
          "data": {
            "text/plain": [
              "<AxesSubplot:title={'center':'credit vs cancel'}, xlabel='credit', ylabel='normalized_count'>"
            ]
          },
          "execution_count": 14,
          "metadata": {},
          "output_type": "execute_result"
        },
        {
          "data": {
            "image/png": "[encoded data removed]",
            "text/plain": [
              "<Figure size 432x288 with 1 Axes>"
            ]
          },
          "metadata": {
            "needs_background": "light"
          },
          "output_type": "display_data"
        }
      ],
      "source": [
        "pd.crosstab(index=train['credit'], columns=train['cancel'],normalize=\"columns\").plot(kind='bar',color={'blue','green','red'},title = 'credit vs cancel',ylabel='normalized_count')\n",
        "\n",
        "\n"
      ]
    },
    {
      "cell_type": "markdown",
      "metadata": {
        "id": "iBSXlZ1w2_oi"
      },
      "source": [
        "#### 3) coverage.type"
      ]
    },
    {
      "cell_type": "code",
      "execution_count": null,
      "metadata": {
        "id": "2xcJWW_V2_oi",
        "outputId": "023e2358-3a26-44a2-8685-bd84225ce764"
      },
      "outputs": [
        {
          "data": {
            "text/plain": [
              "<AxesSubplot:title={'center':'coverage.type vs cancel'}, xlabel='coverage.type', ylabel='normalized_count'>"
            ]
          },
          "execution_count": 15,
          "metadata": {},
          "output_type": "execute_result"
        },
        {
          "data": {
            "image/png": "[encoded data removed]",
            "text/plain": [
              "<Figure size 432x288 with 1 Axes>"
            ]
          },
          "metadata": {
            "needs_background": "light"
          },
          "output_type": "display_data"
        }
      ],
      "source": [
        "pd.crosstab(index=train['coverage.type'], columns=train['cancel'], normalize=\"columns\").plot(kind='bar',color={'blue','green','red'},title = 'coverage.type vs cancel',ylabel='normalized_count')\n"
      ]
    },
    {
      "cell_type": "markdown",
      "metadata": {
        "id": "C1wPqOWv2_oi"
      },
      "source": [
        "#### dwelling.type"
      ]
    },
    {
      "cell_type": "code",
      "execution_count": null,
      "metadata": {
        "scrolled": true,
        "id": "T4EtQ2rb2_oi",
        "outputId": "dc80f9ed-dcbe-4b5f-a593-3ae3c9d0274a"
      },
      "outputs": [
        {
          "data": {
            "text/plain": [
              "<AxesSubplot:title={'center':'dwelling.type vs cancel'}, xlabel='dwelling.type', ylabel='normalized_count'>"
            ]
          },
          "execution_count": 16,
          "metadata": {},
          "output_type": "execute_result"
        },
        {
          "data": {
            "image/png": "[encoded data removed]",
            "text/plain": [
              "<Figure size 432x288 with 1 Axes>"
            ]
          },
          "metadata": {
            "needs_background": "light"
          },
          "output_type": "display_data"
        }
      ],
      "source": [
        "pd.crosstab(index=train['dwelling.type'], columns=train['cancel'], normalize=\"columns\").plot(kind='bar',color={'blue','green','red'},title = 'dwelling.type vs cancel',ylabel='normalized_count')\n"
      ]
    },
    {
      "cell_type": "markdown",
      "metadata": {
        "id": "tgbLycCU2_oi"
      },
      "source": [
        "#### sales.channel"
      ]
    },
    {
      "cell_type": "code",
      "execution_count": null,
      "metadata": {
        "id": "FXnCTjE32_oi",
        "outputId": "f65f2e7a-08bd-468d-903a-ab9d1a3a6ea6"
      },
      "outputs": [
        {
          "data": {
            "text/plain": [
              "<AxesSubplot:title={'center':'sales.channel vs cancel'}, xlabel='sales.channel', ylabel='normalized_count'>"
            ]
          },
          "execution_count": 17,
          "metadata": {},
          "output_type": "execute_result"
        },
        {
          "data": {
            "image/png": "[encoded data removed]",
            "text/plain": [
              "<Figure size 432x288 with 1 Axes>"
            ]
          },
          "metadata": {
            "needs_background": "light"
          },
          "output_type": "display_data"
        }
      ],
      "source": [
        "pd.crosstab(index=train['sales.channel'], columns=train['cancel'], normalize=\"columns\").plot(kind='bar',color={'blue','green','red'},title = 'sales.channel vs cancel',ylabel='normalized_count')"
      ]
    },
    {
      "cell_type": "markdown",
      "metadata": {
        "id": "KBhALcDL2_oj"
      },
      "source": [
        "#### ni.gender"
      ]
    },
    {
      "cell_type": "code",
      "execution_count": null,
      "metadata": {
        "id": "OSn-IgUx2_oj",
        "outputId": "348a9cfd-180b-43d9-ceca-16d90b212377"
      },
      "outputs": [
        {
          "data": {
            "text/plain": [
              "<AxesSubplot:title={'center':'ni.gender vs cancel'}, xlabel='ni.gender', ylabel='normalized_count'>"
            ]
          },
          "execution_count": 18,
          "metadata": {},
          "output_type": "execute_result"
        },
        {
          "data": {
            "image/png": "[encoded data removed]",
            "text/plain": [
              "<Figure size 432x288 with 1 Axes>"
            ]
          },
          "metadata": {
            "needs_background": "light"
          },
          "output_type": "display_data"
        }
      ],
      "source": [
        "pd.crosstab(index=train['ni.gender'], columns=train['cancel'], normalize=\"columns\").plot(kind='bar',color={'blue','green','red'},title = 'ni.gender vs cancel',ylabel='normalized_count')"
      ]
    },
    {
      "cell_type": "markdown",
      "metadata": {
        "id": "-84YJh9o2_oj"
      },
      "source": [
        "#### ni.marital status"
      ]
    },
    {
      "cell_type": "code",
      "execution_count": null,
      "metadata": {
        "id": "9LrUvI6j2_oj",
        "outputId": "d5d6ff2d-1481-47c0-aec7-4bb4d5a43302"
      },
      "outputs": [
        {
          "data": {
            "text/plain": [
              "<AxesSubplot:title={'center':'ni.marital status vs cancel'}, xlabel='ni.marital.status', ylabel='normalized_count'>"
            ]
          },
          "execution_count": 19,
          "metadata": {},
          "output_type": "execute_result"
        },
        {
          "data": {
            "image/png": "[encoded data removed]",
            "text/plain": [
              "<Figure size 432x288 with 1 Axes>"
            ]
          },
          "metadata": {
            "needs_background": "light"
          },
          "output_type": "display_data"
        }
      ],
      "source": [
        "pd.crosstab(index=train['ni.marital.status'], columns=train['cancel'], normalize=\"columns\").plot(kind='bar',color={'blue','green','red'},title = 'ni.marital status vs cancel',ylabel='normalized_count')\n"
      ]
    },
    {
      "cell_type": "markdown",
      "metadata": {
        "id": "CePIeSbP2_oj"
      },
      "source": [
        "#### Claim.ind"
      ]
    },
    {
      "cell_type": "code",
      "execution_count": null,
      "metadata": {
        "id": "ygHlQGpa2_oj",
        "outputId": "c434922b-fe14-43ac-9ccf-51edd051b5f0"
      },
      "outputs": [
        {
          "data": {
            "text/plain": [
              "<AxesSubplot:title={'center':'claim.ind vs cancel'}, xlabel='claim.ind', ylabel='count'>"
            ]
          },
          "execution_count": 338,
          "metadata": {},
          "output_type": "execute_result"
        },
        {
          "data": {
            "image/png": "[encoded data removed]",
            "text/plain": [
              "<Figure size 432x288 with 1 Axes>"
            ]
          },
          "metadata": {
            "needs_background": "light"
          },
          "output_type": "display_data"
        }
      ],
      "source": [
        "pd.crosstab(index=train['claim.ind'], columns=train['cancel']).plot(kind='bar',color={'blue','green','red'},title = 'claim.ind vs cancel',ylabel='count')\n"
      ]
    },
    {
      "cell_type": "markdown",
      "metadata": {
        "id": "hcrt4Y0n2_oj"
      },
      "source": [
        "#### Zone"
      ]
    },
    {
      "cell_type": "code",
      "execution_count": null,
      "metadata": {
        "id": "AVlFYCVC2_oj",
        "outputId": "1733e9b1-1cc7-4766-bb63-bf4c28a6ce94"
      },
      "outputs": [
        {
          "data": {
            "text/plain": [
              "<AxesSubplot:title={'center':'Zone vs cancel'}, xlabel='zone', ylabel='normalized_count'>"
            ]
          },
          "execution_count": 334,
          "metadata": {},
          "output_type": "execute_result"
        },
        {
          "data": {
            "image/png": "[encoded data removed]",
            "text/plain": [
              "<Figure size 432x288 with 1 Axes>"
            ]
          },
          "metadata": {
            "needs_background": "light"
          },
          "output_type": "display_data"
        }
      ],
      "source": [
        "pd.crosstab(index=train['zone'], columns=train['cancel'], normalize=\"columns\").plot(kind='bar',color={'blue','green','red'},title = 'Zone vs cancel',ylabel='normalized_count')\n",
        "### Zone 1,2,4,6 are least renewing states\n",
        "### In Zone 1,2,6 are most likely to renew, whereas zone 4 cancelled\n",
        "#### Zone 3, 5 are most likely to renew.\n"
      ]
    },
    {
      "cell_type": "code",
      "execution_count": null,
      "metadata": {
        "id": "X_oNIlKv2_ok",
        "outputId": "5fccf607-aff7-4a5b-8a0b-46dda16fd303"
      },
      "outputs": [
        {
          "data": {
            "text/plain": [
              "<AxesSubplot:title={'center':'Years Remaining vs cancel'}, xlabel='bin_years_remaining', ylabel='normalized_count'>"
            ]
          },
          "execution_count": 337,
          "metadata": {},
          "output_type": "execute_result"
        },
        {
          "data": {
            "image/png": "[encoded data removed]",
            "text/plain": [
              "<Figure size 432x288 with 1 Axes>"
            ]
          },
          "metadata": {
            "needs_background": "light"
          },
          "output_type": "display_data"
        }
      ],
      "source": [
        "pd.crosstab(index=train['bin_years_remaining'], columns=train['cancel'], normalize=\"columns\").plot(kind='bar',color={'blue','green','red'},title = 'Years Remaining vs cancel',ylabel='normalized_count')"
      ]
    },
    {
      "cell_type": "code",
      "execution_count": null,
      "metadata": {
        "id": "viquoex_2_ok",
        "outputId": "b3dbacd6-0767-48a1-fc3c-d23c2dcaae0e"
      },
      "outputs": [
        {
          "data": {
            "text/plain": [
              "<AxesSubplot:title={'center':'n.Family vs cancel'}, xlabel='n.family', ylabel='normalized_count'>"
            ]
          },
          "execution_count": 23,
          "metadata": {},
          "output_type": "execute_result"
        },
        {
          "data": {
            "image/png": "[encoded data removed]",
            "text/plain": [
              "<Figure size 432x288 with 1 Axes>"
            ]
          },
          "metadata": {
            "needs_background": "light"
          },
          "output_type": "display_data"
        }
      ],
      "source": [
        "\n",
        "# n.family, premium,len.at.res\n",
        "pd.crosstab(index=train['n.family'], columns=train['cancel'], normalize=\"columns\").plot(kind='bar',color={'blue','green','red'},title = 'n.Family vs cancel',ylabel='normalized_count')\n"
      ]
    },
    {
      "cell_type": "code",
      "execution_count": null,
      "metadata": {
        "id": "PmbBySO72_ok"
      },
      "outputs": [],
      "source": [
        "train.to_csv('/cis/home/achatto1/new_project/trv-ness-hackathon-2022/visualization.csv')"
      ]
    },
    {
      "cell_type": "markdown",
      "metadata": {
        "id": "xv0cluOp2_ok"
      },
      "source": [
        "## One Hot Encoding"
      ]
    },
    {
      "cell_type": "code",
      "execution_count": null,
      "metadata": {
        "id": "dH6q4WZI2_ok"
      },
      "outputs": [],
      "source": [
        "\n",
        "train.head()\n",
        "train = pd.get_dummies(train,drop_first=True)"
      ]
    },
    {
      "cell_type": "markdown",
      "metadata": {
        "id": "JmJ7K0KA2_ok"
      },
      "source": [
        "## Dropping redundant columns"
      ]
    },
    {
      "cell_type": "code",
      "execution_count": null,
      "metadata": {
        "id": "wHnDGOog2_ok",
        "outputId": "0cfa6bc2-82f6-4bc8-c470-2ab73d099d2e"
      },
      "outputs": [
        {
          "data": {
            "text/html": [
              "<div>\n",
              "<style scoped>\n",
              "    .dataframe tbody tr th:only-of-type {\n",
              "        vertical-align: middle;\n",
              "    }\n",
              "\n",
              "    .dataframe tbody tr th {\n",
              "        vertical-align: top;\n",
              "    }\n",
              "\n",
              "    .dataframe thead th {\n",
              "        text-align: right;\n",
              "    }\n",
              "</style>\n",
              "<table border=\"1\" class=\"dataframe\">\n",
              "  <thead>\n",
              "    <tr style=\"text-align: right;\">\n",
              "      <th></th>\n",
              "      <th>cancel</th>\n",
              "      <th>ni.age</th>\n",
              "      <th>len.at.res</th>\n",
              "      <th>premium</th>\n",
              "      <th>ni.marital.status</th>\n",
              "      <th>claim.ind</th>\n",
              "      <th>zone</th>\n",
              "      <th>n.family</th>\n",
              "      <th>house.color_red</th>\n",
              "      <th>house.color_white</th>\n",
              "      <th>...</th>\n",
              "      <th>credit_medium</th>\n",
              "      <th>coverage.type_B</th>\n",
              "      <th>coverage.type_C</th>\n",
              "      <th>dwelling.type_House</th>\n",
              "      <th>dwelling.type_Tenant</th>\n",
              "      <th>sales.channel_Online</th>\n",
              "      <th>sales.channel_Phone</th>\n",
              "      <th>ni.gender_M</th>\n",
              "      <th>bin_years_remaining_&gt; 10 Years</th>\n",
              "      <th>bin_years_remaining_Completed</th>\n",
              "    </tr>\n",
              "  </thead>\n",
              "  <tbody>\n",
              "    <tr>\n",
              "      <th>0</th>\n",
              "      <td>0</td>\n",
              "      <td>37.0</td>\n",
              "      <td>18.000000</td>\n",
              "      <td>950.507336</td>\n",
              "      <td>0.0</td>\n",
              "      <td>0.0</td>\n",
              "      <td>1</td>\n",
              "      <td>2.0</td>\n",
              "      <td>0</td>\n",
              "      <td>0</td>\n",
              "      <td>...</td>\n",
              "      <td>0</td>\n",
              "      <td>0</td>\n",
              "      <td>1</td>\n",
              "      <td>0</td>\n",
              "      <td>1</td>\n",
              "      <td>0</td>\n",
              "      <td>0</td>\n",
              "      <td>0</td>\n",
              "      <td>0</td>\n",
              "      <td>0</td>\n",
              "    </tr>\n",
              "    <tr>\n",
              "      <th>1</th>\n",
              "      <td>0</td>\n",
              "      <td>40.0</td>\n",
              "      <td>17.000000</td>\n",
              "      <td>909.346046</td>\n",
              "      <td>1.0</td>\n",
              "      <td>0.0</td>\n",
              "      <td>2</td>\n",
              "      <td>5.0</td>\n",
              "      <td>0</td>\n",
              "      <td>1</td>\n",
              "      <td>...</td>\n",
              "      <td>1</td>\n",
              "      <td>0</td>\n",
              "      <td>0</td>\n",
              "      <td>0</td>\n",
              "      <td>0</td>\n",
              "      <td>0</td>\n",
              "      <td>0</td>\n",
              "      <td>0</td>\n",
              "      <td>0</td>\n",
              "      <td>0</td>\n",
              "    </tr>\n",
              "    <tr>\n",
              "      <th>2</th>\n",
              "      <td>0</td>\n",
              "      <td>45.0</td>\n",
              "      <td>14.000000</td>\n",
              "      <td>897.084502</td>\n",
              "      <td>0.0</td>\n",
              "      <td>0.0</td>\n",
              "      <td>3</td>\n",
              "      <td>1.0</td>\n",
              "      <td>0</td>\n",
              "      <td>1</td>\n",
              "      <td>...</td>\n",
              "      <td>0</td>\n",
              "      <td>0</td>\n",
              "      <td>0</td>\n",
              "      <td>1</td>\n",
              "      <td>0</td>\n",
              "      <td>0</td>\n",
              "      <td>1</td>\n",
              "      <td>1</td>\n",
              "      <td>0</td>\n",
              "      <td>0</td>\n",
              "    </tr>\n",
              "    <tr>\n",
              "      <th>3</th>\n",
              "      <td>0</td>\n",
              "      <td>45.0</td>\n",
              "      <td>24.366136</td>\n",
              "      <td>979.039007</td>\n",
              "      <td>0.0</td>\n",
              "      <td>1.0</td>\n",
              "      <td>2</td>\n",
              "      <td>5.0</td>\n",
              "      <td>1</td>\n",
              "      <td>0</td>\n",
              "      <td>...</td>\n",
              "      <td>0</td>\n",
              "      <td>0</td>\n",
              "      <td>0</td>\n",
              "      <td>1</td>\n",
              "      <td>0</td>\n",
              "      <td>0</td>\n",
              "      <td>1</td>\n",
              "      <td>1</td>\n",
              "      <td>1</td>\n",
              "      <td>0</td>\n",
              "    </tr>\n",
              "    <tr>\n",
              "      <th>4</th>\n",
              "      <td>0</td>\n",
              "      <td>36.0</td>\n",
              "      <td>16.000000</td>\n",
              "      <td>932.379027</td>\n",
              "      <td>1.0</td>\n",
              "      <td>0.0</td>\n",
              "      <td>6</td>\n",
              "      <td>6.0</td>\n",
              "      <td>0</td>\n",
              "      <td>0</td>\n",
              "      <td>...</td>\n",
              "      <td>0</td>\n",
              "      <td>0</td>\n",
              "      <td>1</td>\n",
              "      <td>1</td>\n",
              "      <td>0</td>\n",
              "      <td>0</td>\n",
              "      <td>0</td>\n",
              "      <td>1</td>\n",
              "      <td>0</td>\n",
              "      <td>1</td>\n",
              "    </tr>\n",
              "  </tbody>\n",
              "</table>\n",
              "<p>5 rows × 22 columns</p>\n",
              "</div>"
            ],
            "text/plain": [
              "   cancel  ni.age  len.at.res     premium  ni.marital.status  claim.ind  zone  \\\n",
              "0       0    37.0   18.000000  950.507336                0.0        0.0     1   \n",
              "1       0    40.0   17.000000  909.346046                1.0        0.0     2   \n",
              "2       0    45.0   14.000000  897.084502                0.0        0.0     3   \n",
              "3       0    45.0   24.366136  979.039007                0.0        1.0     2   \n",
              "4       0    36.0   16.000000  932.379027                1.0        0.0     6   \n",
              "\n",
              "   n.family  house.color_red  house.color_white  ...  credit_medium  \\\n",
              "0       2.0                0                  0  ...              0   \n",
              "1       5.0                0                  1  ...              1   \n",
              "2       1.0                0                  1  ...              0   \n",
              "3       5.0                1                  0  ...              0   \n",
              "4       6.0                0                  0  ...              0   \n",
              "\n",
              "   coverage.type_B  coverage.type_C  dwelling.type_House  \\\n",
              "0                0                1                    0   \n",
              "1                0                0                    0   \n",
              "2                0                0                    1   \n",
              "3                0                0                    1   \n",
              "4                0                1                    1   \n",
              "\n",
              "   dwelling.type_Tenant  sales.channel_Online  sales.channel_Phone  \\\n",
              "0                     1                     0                    0   \n",
              "1                     0                     0                    0   \n",
              "2                     0                     0                    1   \n",
              "3                     0                     0                    1   \n",
              "4                     0                     0                    0   \n",
              "\n",
              "   ni.gender_M  bin_years_remaining_> 10 Years  bin_years_remaining_Completed  \n",
              "0            0                               0                              0  \n",
              "1            0                               0                              0  \n",
              "2            1                               0                              0  \n",
              "3            1                               1                              0  \n",
              "4            1                               0                              1  \n",
              "\n",
              "[5 rows x 22 columns]"
            ]
          },
          "execution_count": 15,
          "metadata": {},
          "output_type": "execute_result"
        }
      ],
      "source": [
        "#train_encode.head()\n",
        "train_encode = train\n",
        "train_encode.drop(['zip.code','year','tenure','n.adults','n.children','years_remaining'],axis=1,inplace=True)\n",
        "train_encode.head()\n",
        "\n",
        "\n"
      ]
    },
    {
      "cell_type": "code",
      "execution_count": null,
      "metadata": {
        "id": "GlHWAn-e2_ok"
      },
      "outputs": [],
      "source": [
        "column = 'premium'\n",
        "train_encode[column] = (train_encode[column] - train_encode[column].mean()) / train_encode[column].std()  \n",
        "\n",
        "column = 'len.at.res'\n",
        "train_encode[column] = (train_encode[column] - train_encode[column].mean()) / train_encode[column].std()  \n",
        "  \n",
        "\n",
        "column = 'ni.age'\n",
        "train_encode[column] = (train_encode[column] - train_encode[column].mean()) / train_encode[column].std()  \n",
        " "
      ]
    },
    {
      "cell_type": "code",
      "execution_count": null,
      "metadata": {
        "id": "1T1maGs_2_ok",
        "outputId": "fc54668c-2615-48e6-eb39-e30e768f69e0"
      },
      "outputs": [
        {
          "data": {
            "text/html": [
              "<div>\n",
              "<style scoped>\n",
              "    .dataframe tbody tr th:only-of-type {\n",
              "        vertical-align: middle;\n",
              "    }\n",
              "\n",
              "    .dataframe tbody tr th {\n",
              "        vertical-align: top;\n",
              "    }\n",
              "\n",
              "    .dataframe thead th {\n",
              "        text-align: right;\n",
              "    }\n",
              "</style>\n",
              "<table border=\"1\" class=\"dataframe\">\n",
              "  <thead>\n",
              "    <tr style=\"text-align: right;\">\n",
              "      <th></th>\n",
              "      <th>cancel</th>\n",
              "      <th>ni.age</th>\n",
              "      <th>len.at.res</th>\n",
              "      <th>premium</th>\n",
              "      <th>ni.marital.status</th>\n",
              "      <th>claim.ind</th>\n",
              "      <th>zone</th>\n",
              "      <th>n.family</th>\n",
              "      <th>house.color_red</th>\n",
              "      <th>house.color_white</th>\n",
              "      <th>...</th>\n",
              "      <th>credit_medium</th>\n",
              "      <th>coverage.type_B</th>\n",
              "      <th>coverage.type_C</th>\n",
              "      <th>dwelling.type_House</th>\n",
              "      <th>dwelling.type_Tenant</th>\n",
              "      <th>sales.channel_Online</th>\n",
              "      <th>sales.channel_Phone</th>\n",
              "      <th>ni.gender_M</th>\n",
              "      <th>bin_years_remaining_&gt; 10 Years</th>\n",
              "      <th>bin_years_remaining_Completed</th>\n",
              "    </tr>\n",
              "  </thead>\n",
              "  <tbody>\n",
              "    <tr>\n",
              "      <th>0</th>\n",
              "      <td>0</td>\n",
              "      <td>-0.551517</td>\n",
              "      <td>0.609693</td>\n",
              "      <td>0.651401</td>\n",
              "      <td>0.0</td>\n",
              "      <td>0.0</td>\n",
              "      <td>1</td>\n",
              "      <td>2.0</td>\n",
              "      <td>0</td>\n",
              "      <td>0</td>\n",
              "      <td>...</td>\n",
              "      <td>0</td>\n",
              "      <td>0</td>\n",
              "      <td>1</td>\n",
              "      <td>0</td>\n",
              "      <td>1</td>\n",
              "      <td>0</td>\n",
              "      <td>0</td>\n",
              "      <td>0</td>\n",
              "      <td>0</td>\n",
              "      <td>0</td>\n",
              "    </tr>\n",
              "    <tr>\n",
              "      <th>1</th>\n",
              "      <td>0</td>\n",
              "      <td>-0.295517</td>\n",
              "      <td>0.390708</td>\n",
              "      <td>0.121659</td>\n",
              "      <td>1.0</td>\n",
              "      <td>0.0</td>\n",
              "      <td>2</td>\n",
              "      <td>5.0</td>\n",
              "      <td>0</td>\n",
              "      <td>1</td>\n",
              "      <td>...</td>\n",
              "      <td>1</td>\n",
              "      <td>0</td>\n",
              "      <td>0</td>\n",
              "      <td>0</td>\n",
              "      <td>0</td>\n",
              "      <td>0</td>\n",
              "      <td>0</td>\n",
              "      <td>0</td>\n",
              "      <td>0</td>\n",
              "      <td>0</td>\n",
              "    </tr>\n",
              "    <tr>\n",
              "      <th>2</th>\n",
              "      <td>0</td>\n",
              "      <td>0.131150</td>\n",
              "      <td>-0.266246</td>\n",
              "      <td>-0.036146</td>\n",
              "      <td>0.0</td>\n",
              "      <td>0.0</td>\n",
              "      <td>3</td>\n",
              "      <td>1.0</td>\n",
              "      <td>0</td>\n",
              "      <td>1</td>\n",
              "      <td>...</td>\n",
              "      <td>0</td>\n",
              "      <td>0</td>\n",
              "      <td>0</td>\n",
              "      <td>1</td>\n",
              "      <td>0</td>\n",
              "      <td>0</td>\n",
              "      <td>1</td>\n",
              "      <td>1</td>\n",
              "      <td>0</td>\n",
              "      <td>0</td>\n",
              "    </tr>\n",
              "    <tr>\n",
              "      <th>3</th>\n",
              "      <td>0</td>\n",
              "      <td>0.131150</td>\n",
              "      <td>2.003781</td>\n",
              "      <td>1.018602</td>\n",
              "      <td>0.0</td>\n",
              "      <td>1.0</td>\n",
              "      <td>2</td>\n",
              "      <td>5.0</td>\n",
              "      <td>1</td>\n",
              "      <td>0</td>\n",
              "      <td>...</td>\n",
              "      <td>0</td>\n",
              "      <td>0</td>\n",
              "      <td>0</td>\n",
              "      <td>1</td>\n",
              "      <td>0</td>\n",
              "      <td>0</td>\n",
              "      <td>1</td>\n",
              "      <td>1</td>\n",
              "      <td>1</td>\n",
              "      <td>0</td>\n",
              "    </tr>\n",
              "    <tr>\n",
              "      <th>4</th>\n",
              "      <td>0</td>\n",
              "      <td>-0.636850</td>\n",
              "      <td>0.171723</td>\n",
              "      <td>0.418091</td>\n",
              "      <td>1.0</td>\n",
              "      <td>0.0</td>\n",
              "      <td>6</td>\n",
              "      <td>6.0</td>\n",
              "      <td>0</td>\n",
              "      <td>0</td>\n",
              "      <td>...</td>\n",
              "      <td>0</td>\n",
              "      <td>0</td>\n",
              "      <td>1</td>\n",
              "      <td>1</td>\n",
              "      <td>0</td>\n",
              "      <td>0</td>\n",
              "      <td>0</td>\n",
              "      <td>1</td>\n",
              "      <td>0</td>\n",
              "      <td>1</td>\n",
              "    </tr>\n",
              "    <tr>\n",
              "      <th>...</th>\n",
              "      <td>...</td>\n",
              "      <td>...</td>\n",
              "      <td>...</td>\n",
              "      <td>...</td>\n",
              "      <td>...</td>\n",
              "      <td>...</td>\n",
              "      <td>...</td>\n",
              "      <td>...</td>\n",
              "      <td>...</td>\n",
              "      <td>...</td>\n",
              "      <td>...</td>\n",
              "      <td>...</td>\n",
              "      <td>...</td>\n",
              "      <td>...</td>\n",
              "      <td>...</td>\n",
              "      <td>...</td>\n",
              "      <td>...</td>\n",
              "      <td>...</td>\n",
              "      <td>...</td>\n",
              "      <td>...</td>\n",
              "      <td>...</td>\n",
              "    </tr>\n",
              "    <tr>\n",
              "      <th>1048570</th>\n",
              "      <td>0</td>\n",
              "      <td>2.605817</td>\n",
              "      <td>1.047663</td>\n",
              "      <td>0.347033</td>\n",
              "      <td>0.0</td>\n",
              "      <td>0.0</td>\n",
              "      <td>6</td>\n",
              "      <td>3.0</td>\n",
              "      <td>0</td>\n",
              "      <td>1</td>\n",
              "      <td>...</td>\n",
              "      <td>0</td>\n",
              "      <td>0</td>\n",
              "      <td>0</td>\n",
              "      <td>1</td>\n",
              "      <td>0</td>\n",
              "      <td>1</td>\n",
              "      <td>0</td>\n",
              "      <td>0</td>\n",
              "      <td>0</td>\n",
              "      <td>0</td>\n",
              "    </tr>\n",
              "    <tr>\n",
              "      <th>1048571</th>\n",
              "      <td>0</td>\n",
              "      <td>0.045817</td>\n",
              "      <td>-0.266246</td>\n",
              "      <td>0.883565</td>\n",
              "      <td>0.0</td>\n",
              "      <td>0.0</td>\n",
              "      <td>5</td>\n",
              "      <td>4.0</td>\n",
              "      <td>0</td>\n",
              "      <td>1</td>\n",
              "      <td>...</td>\n",
              "      <td>0</td>\n",
              "      <td>0</td>\n",
              "      <td>0</td>\n",
              "      <td>0</td>\n",
              "      <td>0</td>\n",
              "      <td>0</td>\n",
              "      <td>0</td>\n",
              "      <td>1</td>\n",
              "      <td>0</td>\n",
              "      <td>0</td>\n",
              "    </tr>\n",
              "    <tr>\n",
              "      <th>1048572</th>\n",
              "      <td>0</td>\n",
              "      <td>1.667150</td>\n",
              "      <td>0.609693</td>\n",
              "      <td>-0.790807</td>\n",
              "      <td>1.0</td>\n",
              "      <td>0.0</td>\n",
              "      <td>3</td>\n",
              "      <td>5.0</td>\n",
              "      <td>0</td>\n",
              "      <td>0</td>\n",
              "      <td>...</td>\n",
              "      <td>0</td>\n",
              "      <td>0</td>\n",
              "      <td>0</td>\n",
              "      <td>1</td>\n",
              "      <td>0</td>\n",
              "      <td>0</td>\n",
              "      <td>0</td>\n",
              "      <td>0</td>\n",
              "      <td>0</td>\n",
              "      <td>0</td>\n",
              "    </tr>\n",
              "    <tr>\n",
              "      <th>1048573</th>\n",
              "      <td>0</td>\n",
              "      <td>-1.831517</td>\n",
              "      <td>-0.923201</td>\n",
              "      <td>1.626353</td>\n",
              "      <td>1.0</td>\n",
              "      <td>1.0</td>\n",
              "      <td>5</td>\n",
              "      <td>2.0</td>\n",
              "      <td>0</td>\n",
              "      <td>0</td>\n",
              "      <td>...</td>\n",
              "      <td>0</td>\n",
              "      <td>0</td>\n",
              "      <td>1</td>\n",
              "      <td>1</td>\n",
              "      <td>0</td>\n",
              "      <td>1</td>\n",
              "      <td>0</td>\n",
              "      <td>1</td>\n",
              "      <td>0</td>\n",
              "      <td>1</td>\n",
              "    </tr>\n",
              "    <tr>\n",
              "      <th>1048574</th>\n",
              "      <td>0</td>\n",
              "      <td>1.325817</td>\n",
              "      <td>-0.485231</td>\n",
              "      <td>0.096449</td>\n",
              "      <td>1.0</td>\n",
              "      <td>0.0</td>\n",
              "      <td>6</td>\n",
              "      <td>4.0</td>\n",
              "      <td>0</td>\n",
              "      <td>0</td>\n",
              "      <td>...</td>\n",
              "      <td>0</td>\n",
              "      <td>0</td>\n",
              "      <td>0</td>\n",
              "      <td>1</td>\n",
              "      <td>0</td>\n",
              "      <td>0</td>\n",
              "      <td>0</td>\n",
              "      <td>1</td>\n",
              "      <td>0</td>\n",
              "      <td>0</td>\n",
              "    </tr>\n",
              "  </tbody>\n",
              "</table>\n",
              "<p>1029910 rows × 22 columns</p>\n",
              "</div>"
            ],
            "text/plain": [
              "         cancel    ni.age  len.at.res   premium  ni.marital.status  claim.ind  \\\n",
              "0             0 -0.551517    0.609693  0.651401                0.0        0.0   \n",
              "1             0 -0.295517    0.390708  0.121659                1.0        0.0   \n",
              "2             0  0.131150   -0.266246 -0.036146                0.0        0.0   \n",
              "3             0  0.131150    2.003781  1.018602                0.0        1.0   \n",
              "4             0 -0.636850    0.171723  0.418091                1.0        0.0   \n",
              "...         ...       ...         ...       ...                ...        ...   \n",
              "1048570       0  2.605817    1.047663  0.347033                0.0        0.0   \n",
              "1048571       0  0.045817   -0.266246  0.883565                0.0        0.0   \n",
              "1048572       0  1.667150    0.609693 -0.790807                1.0        0.0   \n",
              "1048573       0 -1.831517   -0.923201  1.626353                1.0        1.0   \n",
              "1048574       0  1.325817   -0.485231  0.096449                1.0        0.0   \n",
              "\n",
              "         zone  n.family  house.color_red  house.color_white  ...  \\\n",
              "0           1       2.0                0                  0  ...   \n",
              "1           2       5.0                0                  1  ...   \n",
              "2           3       1.0                0                  1  ...   \n",
              "3           2       5.0                1                  0  ...   \n",
              "4           6       6.0                0                  0  ...   \n",
              "...       ...       ...              ...                ...  ...   \n",
              "1048570     6       3.0                0                  1  ...   \n",
              "1048571     5       4.0                0                  1  ...   \n",
              "1048572     3       5.0                0                  0  ...   \n",
              "1048573     5       2.0                0                  0  ...   \n",
              "1048574     6       4.0                0                  0  ...   \n",
              "\n",
              "         credit_medium  coverage.type_B  coverage.type_C  dwelling.type_House  \\\n",
              "0                    0                0                1                    0   \n",
              "1                    1                0                0                    0   \n",
              "2                    0                0                0                    1   \n",
              "3                    0                0                0                    1   \n",
              "4                    0                0                1                    1   \n",
              "...                ...              ...              ...                  ...   \n",
              "1048570              0                0                0                    1   \n",
              "1048571              0                0                0                    0   \n",
              "1048572              0                0                0                    1   \n",
              "1048573              0                0                1                    1   \n",
              "1048574              0                0                0                    1   \n",
              "\n",
              "         dwelling.type_Tenant  sales.channel_Online  sales.channel_Phone  \\\n",
              "0                           1                     0                    0   \n",
              "1                           0                     0                    0   \n",
              "2                           0                     0                    1   \n",
              "3                           0                     0                    1   \n",
              "4                           0                     0                    0   \n",
              "...                       ...                   ...                  ...   \n",
              "1048570                     0                     1                    0   \n",
              "1048571                     0                     0                    0   \n",
              "1048572                     0                     0                    0   \n",
              "1048573                     0                     1                    0   \n",
              "1048574                     0                     0                    0   \n",
              "\n",
              "         ni.gender_M  bin_years_remaining_> 10 Years  \\\n",
              "0                  0                               0   \n",
              "1                  0                               0   \n",
              "2                  1                               0   \n",
              "3                  1                               1   \n",
              "4                  1                               0   \n",
              "...              ...                             ...   \n",
              "1048570            0                               0   \n",
              "1048571            1                               0   \n",
              "1048572            0                               0   \n",
              "1048573            1                               0   \n",
              "1048574            1                               0   \n",
              "\n",
              "         bin_years_remaining_Completed  \n",
              "0                                    0  \n",
              "1                                    0  \n",
              "2                                    0  \n",
              "3                                    0  \n",
              "4                                    1  \n",
              "...                                ...  \n",
              "1048570                              0  \n",
              "1048571                              0  \n",
              "1048572                              0  \n",
              "1048573                              1  \n",
              "1048574                              0  \n",
              "\n",
              "[1029910 rows x 22 columns]"
            ]
          },
          "execution_count": 20,
          "metadata": {},
          "output_type": "execute_result"
        }
      ],
      "source": [
        "#train_encode.drop(['id'],axis=1,inplace=True)\n",
        "train1 = train_encode\n",
        "train1"
      ]
    },
    {
      "cell_type": "markdown",
      "metadata": {
        "id": "uXXnG_IZ2_ok"
      },
      "source": [
        "## Test data prepreparation"
      ]
    },
    {
      "cell_type": "code",
      "execution_count": null,
      "metadata": {
        "id": "345QgCvW2_ol"
      },
      "outputs": [],
      "source": [
        "#reading test data\n",
        "test = pd.read_csv('/cis/home/achatto1/new_project/trv-ness-hackathon-2022/test.csv')"
      ]
    },
    {
      "cell_type": "code",
      "execution_count": null,
      "metadata": {
        "id": "bGNbVhqC2_ol",
        "outputId": "c41e1642-f7ca-44bb-c9c5-1b489e60ffc9"
      },
      "outputs": [
        {
          "name": "stdout",
          "output_type": "stream",
          "text": [
            "<class 'pandas.core.frame.DataFrame'>\n",
            "RangeIndex: 2412 entries, 0 to 2411\n",
            "Data columns (total 17 columns):\n",
            " #   Column             Non-Null Count  Dtype  \n",
            "---  ------             --------------  -----  \n",
            " 0   id                 2412 non-null   int64  \n",
            " 1   tenure             2410 non-null   float64\n",
            " 2   claim.ind          2410 non-null   float64\n",
            " 3   n.adults           2408 non-null   float64\n",
            " 4   n.children         2412 non-null   int64  \n",
            " 5   ni.gender          2411 non-null   object \n",
            " 6   ni.marital.status  2410 non-null   float64\n",
            " 7   premium            2411 non-null   float64\n",
            " 8   sales.channel      2407 non-null   object \n",
            " 9   coverage.type      2410 non-null   object \n",
            " 10  dwelling.type      2411 non-null   object \n",
            " 11  len.at.res         2409 non-null   float64\n",
            " 12  credit             2410 non-null   object \n",
            " 13  house.color        2412 non-null   object \n",
            " 14  ni.age             2409 non-null   float64\n",
            " 15  year               2412 non-null   int64  \n",
            " 16  zip.code           2409 non-null   float64\n",
            "dtypes: float64(8), int64(3), object(6)\n",
            "memory usage: 320.5+ KB\n"
          ]
        }
      ],
      "source": [
        "test.info()"
      ]
    },
    {
      "cell_type": "code",
      "execution_count": null,
      "metadata": {
        "scrolled": true,
        "id": "Ulw2d5Zs2_ol",
        "outputId": "0446b88b-6be1-4196-d160-d7bf192a08ce"
      },
      "outputs": [
        {
          "data": {
            "text/html": [
              "<div>\n",
              "<style scoped>\n",
              "    .dataframe tbody tr th:only-of-type {\n",
              "        vertical-align: middle;\n",
              "    }\n",
              "\n",
              "    .dataframe tbody tr th {\n",
              "        vertical-align: top;\n",
              "    }\n",
              "\n",
              "    .dataframe thead th {\n",
              "        text-align: right;\n",
              "    }\n",
              "</style>\n",
              "<table border=\"1\" class=\"dataframe\">\n",
              "  <thead>\n",
              "    <tr style=\"text-align: right;\">\n",
              "      <th></th>\n",
              "      <th>id</th>\n",
              "      <th>tenure</th>\n",
              "      <th>claim.ind</th>\n",
              "      <th>n.adults</th>\n",
              "      <th>n.children</th>\n",
              "      <th>ni.gender</th>\n",
              "      <th>ni.marital.status</th>\n",
              "      <th>premium</th>\n",
              "      <th>sales.channel</th>\n",
              "      <th>coverage.type</th>\n",
              "      <th>dwelling.type</th>\n",
              "      <th>len.at.res</th>\n",
              "      <th>credit</th>\n",
              "      <th>house.color</th>\n",
              "      <th>ni.age</th>\n",
              "      <th>year</th>\n",
              "      <th>zip.code</th>\n",
              "    </tr>\n",
              "  </thead>\n",
              "  <tbody>\n",
              "    <tr>\n",
              "      <th>0</th>\n",
              "      <td>7583</td>\n",
              "      <td>5.0</td>\n",
              "      <td>0.0</td>\n",
              "      <td>1.0</td>\n",
              "      <td>3</td>\n",
              "      <td>F</td>\n",
              "      <td>1.0</td>\n",
              "      <td>913.623201</td>\n",
              "      <td>Broker</td>\n",
              "      <td>C</td>\n",
              "      <td>Tenant</td>\n",
              "      <td>18.0</td>\n",
              "      <td>medium</td>\n",
              "      <td>blue</td>\n",
              "      <td>35.0</td>\n",
              "      <td>2017</td>\n",
              "      <td>85066.0</td>\n",
              "    </tr>\n",
              "    <tr>\n",
              "      <th>1</th>\n",
              "      <td>7584</td>\n",
              "      <td>15.0</td>\n",
              "      <td>1.0</td>\n",
              "      <td>1.0</td>\n",
              "      <td>4</td>\n",
              "      <td>F</td>\n",
              "      <td>1.0</td>\n",
              "      <td>1018.426114</td>\n",
              "      <td>Phone</td>\n",
              "      <td>A</td>\n",
              "      <td>House</td>\n",
              "      <td>15.0</td>\n",
              "      <td>medium</td>\n",
              "      <td>white</td>\n",
              "      <td>59.0</td>\n",
              "      <td>2017</td>\n",
              "      <td>98013.0</td>\n",
              "    </tr>\n",
              "    <tr>\n",
              "      <th>2</th>\n",
              "      <td>7585</td>\n",
              "      <td>1.0</td>\n",
              "      <td>1.0</td>\n",
              "      <td>3.0</td>\n",
              "      <td>2</td>\n",
              "      <td>M</td>\n",
              "      <td>1.0</td>\n",
              "      <td>928.418533</td>\n",
              "      <td>Broker</td>\n",
              "      <td>B</td>\n",
              "      <td>Condo</td>\n",
              "      <td>13.0</td>\n",
              "      <td>medium</td>\n",
              "      <td>blue</td>\n",
              "      <td>27.0</td>\n",
              "      <td>2017</td>\n",
              "      <td>15049.0</td>\n",
              "    </tr>\n",
              "    <tr>\n",
              "      <th>3</th>\n",
              "      <td>7586</td>\n",
              "      <td>12.0</td>\n",
              "      <td>0.0</td>\n",
              "      <td>4.0</td>\n",
              "      <td>0</td>\n",
              "      <td>M</td>\n",
              "      <td>0.0</td>\n",
              "      <td>877.649917</td>\n",
              "      <td>Broker</td>\n",
              "      <td>B</td>\n",
              "      <td>Condo</td>\n",
              "      <td>19.0</td>\n",
              "      <td>high</td>\n",
              "      <td>blue</td>\n",
              "      <td>35.0</td>\n",
              "      <td>2017</td>\n",
              "      <td>15026.0</td>\n",
              "    </tr>\n",
              "    <tr>\n",
              "      <th>4</th>\n",
              "      <td>7587</td>\n",
              "      <td>11.0</td>\n",
              "      <td>0.0</td>\n",
              "      <td>1.0</td>\n",
              "      <td>9</td>\n",
              "      <td>F</td>\n",
              "      <td>1.0</td>\n",
              "      <td>947.281913</td>\n",
              "      <td>Broker</td>\n",
              "      <td>A</td>\n",
              "      <td>Condo</td>\n",
              "      <td>18.0</td>\n",
              "      <td>high</td>\n",
              "      <td>red</td>\n",
              "      <td>34.0</td>\n",
              "      <td>2017</td>\n",
              "      <td>15025.0</td>\n",
              "    </tr>\n",
              "  </tbody>\n",
              "</table>\n",
              "</div>"
            ],
            "text/plain": [
              "     id  tenure  claim.ind  n.adults  n.children ni.gender  ni.marital.status  \\\n",
              "0  7583     5.0        0.0       1.0           3         F                1.0   \n",
              "1  7584    15.0        1.0       1.0           4         F                1.0   \n",
              "2  7585     1.0        1.0       3.0           2         M                1.0   \n",
              "3  7586    12.0        0.0       4.0           0         M                0.0   \n",
              "4  7587    11.0        0.0       1.0           9         F                1.0   \n",
              "\n",
              "       premium sales.channel coverage.type dwelling.type  len.at.res  credit  \\\n",
              "0   913.623201        Broker             C        Tenant        18.0  medium   \n",
              "1  1018.426114         Phone             A         House        15.0  medium   \n",
              "2   928.418533        Broker             B         Condo        13.0  medium   \n",
              "3   877.649917        Broker             B         Condo        19.0    high   \n",
              "4   947.281913        Broker             A         Condo        18.0    high   \n",
              "\n",
              "  house.color  ni.age  year  zip.code  \n",
              "0        blue    35.0  2017   85066.0  \n",
              "1       white    59.0  2017   98013.0  \n",
              "2        blue    27.0  2017   15049.0  \n",
              "3        blue    35.0  2017   15026.0  \n",
              "4         red    34.0  2017   15025.0  "
            ]
          },
          "execution_count": 369,
          "metadata": {},
          "output_type": "execute_result"
        }
      ],
      "source": [
        "# Missing values\n",
        "test.isna().sum()\n",
        "\n",
        "test.head()"
      ]
    },
    {
      "cell_type": "code",
      "execution_count": null,
      "metadata": {
        "id": "s0zOqXRz2_ol"
      },
      "outputs": [],
      "source": [
        "#Displaying rows with null values \n",
        "#test[test.isna().any(axis=1)]"
      ]
    },
    {
      "cell_type": "code",
      "execution_count": null,
      "metadata": {
        "id": "PG3-mbth2_ol",
        "outputId": "22dd1d93-bfca-4e64-fcbf-bf4830993f35"
      },
      "outputs": [
        {
          "data": {
            "text/html": [
              "<div>\n",
              "<style scoped>\n",
              "    .dataframe tbody tr th:only-of-type {\n",
              "        vertical-align: middle;\n",
              "    }\n",
              "\n",
              "    .dataframe tbody tr th {\n",
              "        vertical-align: top;\n",
              "    }\n",
              "\n",
              "    .dataframe thead th {\n",
              "        text-align: right;\n",
              "    }\n",
              "</style>\n",
              "<table border=\"1\" class=\"dataframe\">\n",
              "  <thead>\n",
              "    <tr style=\"text-align: right;\">\n",
              "      <th></th>\n",
              "      <th>id</th>\n",
              "      <th>tenure</th>\n",
              "      <th>claim.ind</th>\n",
              "      <th>n.adults</th>\n",
              "      <th>n.children</th>\n",
              "      <th>ni.gender</th>\n",
              "      <th>ni.marital.status</th>\n",
              "      <th>premium</th>\n",
              "      <th>sales.channel</th>\n",
              "      <th>coverage.type</th>\n",
              "      <th>dwelling.type</th>\n",
              "      <th>len.at.res</th>\n",
              "      <th>credit</th>\n",
              "      <th>house.color</th>\n",
              "      <th>ni.age</th>\n",
              "      <th>year</th>\n",
              "      <th>zip.code</th>\n",
              "    </tr>\n",
              "  </thead>\n",
              "  <tbody>\n",
              "    <tr>\n",
              "      <th>0</th>\n",
              "      <td>7583</td>\n",
              "      <td>5.0</td>\n",
              "      <td>0.0</td>\n",
              "      <td>1.0</td>\n",
              "      <td>3</td>\n",
              "      <td>F</td>\n",
              "      <td>1.0</td>\n",
              "      <td>913.623201</td>\n",
              "      <td>Broker</td>\n",
              "      <td>C</td>\n",
              "      <td>Tenant</td>\n",
              "      <td>18.0</td>\n",
              "      <td>medium</td>\n",
              "      <td>blue</td>\n",
              "      <td>35.0</td>\n",
              "      <td>2017</td>\n",
              "      <td>85066.0</td>\n",
              "    </tr>\n",
              "    <tr>\n",
              "      <th>1</th>\n",
              "      <td>7584</td>\n",
              "      <td>15.0</td>\n",
              "      <td>1.0</td>\n",
              "      <td>1.0</td>\n",
              "      <td>4</td>\n",
              "      <td>F</td>\n",
              "      <td>1.0</td>\n",
              "      <td>1018.426114</td>\n",
              "      <td>Phone</td>\n",
              "      <td>A</td>\n",
              "      <td>House</td>\n",
              "      <td>15.0</td>\n",
              "      <td>medium</td>\n",
              "      <td>white</td>\n",
              "      <td>59.0</td>\n",
              "      <td>2017</td>\n",
              "      <td>98013.0</td>\n",
              "    </tr>\n",
              "    <tr>\n",
              "      <th>2</th>\n",
              "      <td>7585</td>\n",
              "      <td>1.0</td>\n",
              "      <td>1.0</td>\n",
              "      <td>3.0</td>\n",
              "      <td>2</td>\n",
              "      <td>M</td>\n",
              "      <td>1.0</td>\n",
              "      <td>928.418533</td>\n",
              "      <td>Broker</td>\n",
              "      <td>B</td>\n",
              "      <td>Condo</td>\n",
              "      <td>13.0</td>\n",
              "      <td>medium</td>\n",
              "      <td>blue</td>\n",
              "      <td>27.0</td>\n",
              "      <td>2017</td>\n",
              "      <td>15049.0</td>\n",
              "    </tr>\n",
              "    <tr>\n",
              "      <th>3</th>\n",
              "      <td>7586</td>\n",
              "      <td>12.0</td>\n",
              "      <td>0.0</td>\n",
              "      <td>4.0</td>\n",
              "      <td>0</td>\n",
              "      <td>M</td>\n",
              "      <td>0.0</td>\n",
              "      <td>877.649917</td>\n",
              "      <td>Broker</td>\n",
              "      <td>B</td>\n",
              "      <td>Condo</td>\n",
              "      <td>19.0</td>\n",
              "      <td>high</td>\n",
              "      <td>blue</td>\n",
              "      <td>35.0</td>\n",
              "      <td>2017</td>\n",
              "      <td>15026.0</td>\n",
              "    </tr>\n",
              "    <tr>\n",
              "      <th>4</th>\n",
              "      <td>7587</td>\n",
              "      <td>11.0</td>\n",
              "      <td>0.0</td>\n",
              "      <td>1.0</td>\n",
              "      <td>9</td>\n",
              "      <td>F</td>\n",
              "      <td>1.0</td>\n",
              "      <td>947.281913</td>\n",
              "      <td>Broker</td>\n",
              "      <td>A</td>\n",
              "      <td>Condo</td>\n",
              "      <td>18.0</td>\n",
              "      <td>high</td>\n",
              "      <td>red</td>\n",
              "      <td>34.0</td>\n",
              "      <td>2017</td>\n",
              "      <td>15025.0</td>\n",
              "    </tr>\n",
              "  </tbody>\n",
              "</table>\n",
              "</div>"
            ],
            "text/plain": [
              "     id  tenure  claim.ind  n.adults  n.children ni.gender  ni.marital.status  \\\n",
              "0  7583     5.0        0.0       1.0           3         F                1.0   \n",
              "1  7584    15.0        1.0       1.0           4         F                1.0   \n",
              "2  7585     1.0        1.0       3.0           2         M                1.0   \n",
              "3  7586    12.0        0.0       4.0           0         M                0.0   \n",
              "4  7587    11.0        0.0       1.0           9         F                1.0   \n",
              "\n",
              "       premium sales.channel coverage.type dwelling.type  len.at.res  credit  \\\n",
              "0   913.623201        Broker             C        Tenant        18.0  medium   \n",
              "1  1018.426114         Phone             A         House        15.0  medium   \n",
              "2   928.418533        Broker             B         Condo        13.0  medium   \n",
              "3   877.649917        Broker             B         Condo        19.0    high   \n",
              "4   947.281913        Broker             A         Condo        18.0    high   \n",
              "\n",
              "  house.color  ni.age  year  zip.code  \n",
              "0        blue    35.0  2017   85066.0  \n",
              "1       white    59.0  2017   98013.0  \n",
              "2        blue    27.0  2017   15049.0  \n",
              "3        blue    35.0  2017   15026.0  \n",
              "4         red    34.0  2017   15025.0  "
            ]
          },
          "execution_count": 370,
          "metadata": {},
          "output_type": "execute_result"
        }
      ],
      "source": [
        "#Filling null values\n",
        "test = test.apply(lambda test:test.fillna(test.value_counts().index[0]))\n",
        "test.head()"
      ]
    },
    {
      "cell_type": "code",
      "execution_count": null,
      "metadata": {
        "id": "AgvhOx8e2_ol",
        "outputId": "de4e9ccb-a375-4db0-a181-8f9ae690a1fc"
      },
      "outputs": [
        {
          "name": "stdout",
          "output_type": "stream",
          "text": [
            "[85000. 98000. 15000. 50000. 80000. 20000.]\n"
          ]
        }
      ],
      "source": [
        "# Test preprocessing start\n",
        "\n",
        "# Drop ID column\n",
        "test.drop(['id'],axis=1,inplace=True)\n",
        "\n",
        "\n",
        "#Zipcode to zones\n",
        "zip_code = round(test['zip.code'],-3)\n",
        "zone = []\n",
        "\n",
        "print(zip_code.unique())\n",
        "for i in zip_code:\n",
        "    if i==85000.0:\n",
        "        zone.append(2)\n",
        "    elif i==80000.0:\n",
        "        zone.append(3)\n",
        "    elif i==98000.0:\n",
        "        zone.append(1)\n",
        "    elif i==50000.0:\n",
        "        zone.append(6)\n",
        "    elif i==15000.0:\n",
        "        zone.append(5)\n",
        "    else:\n",
        "        zone.append(4)\n",
        "    \n",
        "    \n",
        "test['zone'] = zone\n",
        "\n",
        "#Family member\n",
        "n_total = test['n.adults']+test['n.children']\n",
        "\n",
        "test['n.family'] = n_total\n",
        "\n",
        "\n",
        "#Years Remaining\n",
        "\n",
        "total_years_passed_by =2022-test['year']\n",
        "years_remaining=test['tenure']-total_years_passed_by\n",
        "test['years_remaining']=years_remaining\n",
        "\n",
        "\n",
        "#### Binning years remaining.\n",
        "bin_years_remaining = []\n",
        "for i in years_remaining:\n",
        "    if i <= 0.0:\n",
        "        bin_years_remaining.append('Completed')\n",
        "    elif ((i > 0.0) and (i <= 10.0)):\n",
        "        bin_years_remaining.append('Short_term')\n",
        "    elif i > 10.0:\n",
        "        bin_years_remaining.append('Long_term')\n",
        "\n",
        "test['bin_years_remaining']=bin_years_remaining\n",
        "\n",
        "\n",
        "# label encoding\n",
        "\n",
        "\n",
        "test_encode = pd.get_dummies(test,drop_first=True)\n",
        "\n",
        "\n",
        "#train_encode.head()\n",
        "test_encode.drop(['zip.code','year','tenure','n.adults','n.children','years_remaining'],axis=1,inplace=True)\n",
        "test_encode.head()\n",
        "\n",
        "\n",
        "# Normalize\n",
        "column = 'premium'\n",
        "test_encode[column] = (test_encode[column] - test_encode[column].mean()) / test_encode[column].std()  \n",
        "\n",
        "column = 'len.at.res'\n",
        "test_encode[column] = (test_encode[column] - test_encode[column].mean()) / test_encode[column].std()  \n",
        "\n",
        "\n",
        "column = 'ni.age'\n",
        "test_encode[column] = (test_encode[column] - test_encode[column].mean()) / test_encode[column].std()\n",
        "\n",
        "\n"
      ]
    },
    {
      "cell_type": "markdown",
      "metadata": {
        "id": "0Ta-7DQd2_ol"
      },
      "source": [
        "## Train Validation split"
      ]
    },
    {
      "cell_type": "code",
      "execution_count": null,
      "metadata": {
        "id": "RjcpRHeO2_ol",
        "outputId": "05bef5bb-02c3-4e90-c792-1b2dd7c695a9"
      },
      "outputs": [
        {
          "name": "stderr",
          "output_type": "stream",
          "text": [
            "<ipython-input-77-eece346e8d1d>:13: SettingWithCopyWarning: \n",
            "A value is trying to be set on a copy of a slice from a DataFrame.\n",
            "Try using .loc[row_indexer,col_indexer] = value instead\n",
            "\n",
            "See the caveats in the documentation: https://pandas.pydata.org/pandas-docs/stable/user_guide/indexing.html#returning-a-view-versus-a-copy\n",
            "  x0['cancel'] = np.repeat(0, len(x0))\n"
          ]
        },
        {
          "data": {
            "text/plain": [
              "18         2\n",
              "44         2\n",
              "46         2\n",
              "48         2\n",
              "59         2\n",
              "          ..\n",
              "1048535    2\n",
              "1048536    2\n",
              "1048551    2\n",
              "1048554    2\n",
              "1048556    2\n",
              "Name: cancel, Length: 225659, dtype: int64"
            ]
          },
          "execution_count": 77,
          "metadata": {},
          "output_type": "execute_result"
        }
      ],
      "source": [
        "from sklearn import preprocessing\n",
        "train_encode = train1\n",
        "\n",
        "x0 = train_encode[train_encode['cancel']==0]\n",
        "x0 = x0\n",
        "x1 = train_encode[train_encode['cancel']==1]\n",
        "x1 = x1/1.5\n",
        "\n",
        "x2 = train_encode[train_encode['cancel']==2]\n",
        "x2 = x2*1.5\n",
        "\n",
        "\n",
        "x0['cancel'] = np.repeat(0, len(x0))\n",
        "x1['cancel'] = np.repeat(1, len(x1))\n",
        "x2['cancel'] = np.repeat(2, len(x2))\n",
        "\n",
        "train_encode = pd.concat([x0, x1,x2])\n",
        "\n",
        "\n",
        "\n",
        "y_train = train_encode['cancel']\n",
        "x_train = train_encode.drop(['cancel'],axis=1)\n",
        "\n",
        "\n",
        "\n",
        "\n",
        "\n",
        "X_train, X_val, Y_train, Y_val = train_test_split(x_train, y_train, \n",
        "    test_size=0.25, random_state= 8) # 0.25 x 0.8 = 0.2\n",
        "\n",
        "x2['cancel']"
      ]
    },
    {
      "cell_type": "code",
      "execution_count": null,
      "metadata": {
        "id": "9L0m1bem2_om",
        "outputId": "9694849f-31c2-43b4-864c-e9b5f0bb1c9e"
      },
      "outputs": [
        {
          "data": {
            "text/plain": [
              "(array([182415.,      0.,      0.,      0.,      0.,  18633.,      0.,\n",
              "             0.,      0.,  56430.]),\n",
              " array([0. , 0.2, 0.4, 0.6, 0.8, 1. , 1.2, 1.4, 1.6, 1.8, 2. ]),\n",
              " <BarContainer object of 10 artists>)"
            ]
          },
          "execution_count": 86,
          "metadata": {},
          "output_type": "execute_result"
        },
        {
          "data": {
            "image/png": "[encoded data removed]",
            "text/plain": [
              "<Figure size 432x288 with 1 Axes>"
            ]
          },
          "metadata": {
            "needs_background": "light"
          },
          "output_type": "display_data"
        }
      ],
      "source": [
        "hist(Y_val.values)"
      ]
    },
    {
      "cell_type": "code",
      "execution_count": null,
      "metadata": {
        "id": "a3_HX5Tz2_om",
        "outputId": "4e67cf7e-9fbd-4058-f542-4518e0a2c789"
      },
      "outputs": [
        {
          "data": {
            "text/html": [
              "<div>\n",
              "<style scoped>\n",
              "    .dataframe tbody tr th:only-of-type {\n",
              "        vertical-align: middle;\n",
              "    }\n",
              "\n",
              "    .dataframe tbody tr th {\n",
              "        vertical-align: top;\n",
              "    }\n",
              "\n",
              "    .dataframe thead th {\n",
              "        text-align: right;\n",
              "    }\n",
              "</style>\n",
              "<table border=\"1\" class=\"dataframe\">\n",
              "  <thead>\n",
              "    <tr style=\"text-align: right;\">\n",
              "      <th></th>\n",
              "      <th>ni.age</th>\n",
              "      <th>len.at.res</th>\n",
              "      <th>premium</th>\n",
              "      <th>ni.marital.status</th>\n",
              "      <th>claim.ind</th>\n",
              "      <th>zone</th>\n",
              "      <th>n.family</th>\n",
              "      <th>house.color_red</th>\n",
              "      <th>house.color_white</th>\n",
              "      <th>house.color_yellow</th>\n",
              "      <th>...</th>\n",
              "      <th>credit_medium</th>\n",
              "      <th>coverage.type_B</th>\n",
              "      <th>coverage.type_C</th>\n",
              "      <th>dwelling.type_House</th>\n",
              "      <th>dwelling.type_Tenant</th>\n",
              "      <th>sales.channel_Online</th>\n",
              "      <th>sales.channel_Phone</th>\n",
              "      <th>ni.gender_M</th>\n",
              "      <th>bin_years_remaining_Long_term</th>\n",
              "      <th>bin_years_remaining_Short_term</th>\n",
              "    </tr>\n",
              "  </thead>\n",
              "  <tbody>\n",
              "    <tr>\n",
              "      <th>0</th>\n",
              "      <td>-0.656215</td>\n",
              "      <td>0.629868</td>\n",
              "      <td>0.189885</td>\n",
              "      <td>1.0</td>\n",
              "      <td>0.0</td>\n",
              "      <td>2</td>\n",
              "      <td>4.0</td>\n",
              "      <td>0</td>\n",
              "      <td>0</td>\n",
              "      <td>0</td>\n",
              "      <td>...</td>\n",
              "      <td>1</td>\n",
              "      <td>0</td>\n",
              "      <td>1</td>\n",
              "      <td>0</td>\n",
              "      <td>1</td>\n",
              "      <td>0</td>\n",
              "      <td>0</td>\n",
              "      <td>0</td>\n",
              "      <td>0</td>\n",
              "      <td>0</td>\n",
              "    </tr>\n",
              "    <tr>\n",
              "      <th>1</th>\n",
              "      <td>1.266434</td>\n",
              "      <td>-0.035890</td>\n",
              "      <td>1.520010</td>\n",
              "      <td>1.0</td>\n",
              "      <td>1.0</td>\n",
              "      <td>1</td>\n",
              "      <td>5.0</td>\n",
              "      <td>0</td>\n",
              "      <td>1</td>\n",
              "      <td>0</td>\n",
              "      <td>...</td>\n",
              "      <td>1</td>\n",
              "      <td>0</td>\n",
              "      <td>0</td>\n",
              "      <td>1</td>\n",
              "      <td>0</td>\n",
              "      <td>0</td>\n",
              "      <td>1</td>\n",
              "      <td>0</td>\n",
              "      <td>0</td>\n",
              "      <td>1</td>\n",
              "    </tr>\n",
              "    <tr>\n",
              "      <th>2</th>\n",
              "      <td>-1.297098</td>\n",
              "      <td>-0.479729</td>\n",
              "      <td>0.377662</td>\n",
              "      <td>1.0</td>\n",
              "      <td>1.0</td>\n",
              "      <td>5</td>\n",
              "      <td>5.0</td>\n",
              "      <td>0</td>\n",
              "      <td>0</td>\n",
              "      <td>0</td>\n",
              "      <td>...</td>\n",
              "      <td>1</td>\n",
              "      <td>1</td>\n",
              "      <td>0</td>\n",
              "      <td>0</td>\n",
              "      <td>0</td>\n",
              "      <td>0</td>\n",
              "      <td>0</td>\n",
              "      <td>1</td>\n",
              "      <td>0</td>\n",
              "      <td>0</td>\n",
              "    </tr>\n",
              "    <tr>\n",
              "      <th>3</th>\n",
              "      <td>-0.656215</td>\n",
              "      <td>0.851787</td>\n",
              "      <td>-0.266677</td>\n",
              "      <td>0.0</td>\n",
              "      <td>0.0</td>\n",
              "      <td>5</td>\n",
              "      <td>4.0</td>\n",
              "      <td>0</td>\n",
              "      <td>0</td>\n",
              "      <td>0</td>\n",
              "      <td>...</td>\n",
              "      <td>0</td>\n",
              "      <td>1</td>\n",
              "      <td>0</td>\n",
              "      <td>0</td>\n",
              "      <td>0</td>\n",
              "      <td>0</td>\n",
              "      <td>0</td>\n",
              "      <td>1</td>\n",
              "      <td>0</td>\n",
              "      <td>1</td>\n",
              "    </tr>\n",
              "    <tr>\n",
              "      <th>4</th>\n",
              "      <td>-0.736325</td>\n",
              "      <td>0.629868</td>\n",
              "      <td>0.617070</td>\n",
              "      <td>1.0</td>\n",
              "      <td>0.0</td>\n",
              "      <td>5</td>\n",
              "      <td>10.0</td>\n",
              "      <td>1</td>\n",
              "      <td>0</td>\n",
              "      <td>0</td>\n",
              "      <td>...</td>\n",
              "      <td>0</td>\n",
              "      <td>0</td>\n",
              "      <td>0</td>\n",
              "      <td>0</td>\n",
              "      <td>0</td>\n",
              "      <td>0</td>\n",
              "      <td>0</td>\n",
              "      <td>0</td>\n",
              "      <td>0</td>\n",
              "      <td>1</td>\n",
              "    </tr>\n",
              "  </tbody>\n",
              "</table>\n",
              "<p>5 rows × 21 columns</p>\n",
              "</div>"
            ],
            "text/plain": [
              "     ni.age  len.at.res   premium  ni.marital.status  claim.ind  zone  \\\n",
              "0 -0.656215    0.629868  0.189885                1.0        0.0     2   \n",
              "1  1.266434   -0.035890  1.520010                1.0        1.0     1   \n",
              "2 -1.297098   -0.479729  0.377662                1.0        1.0     5   \n",
              "3 -0.656215    0.851787 -0.266677                0.0        0.0     5   \n",
              "4 -0.736325    0.629868  0.617070                1.0        0.0     5   \n",
              "\n",
              "   n.family  house.color_red  house.color_white  house.color_yellow  ...  \\\n",
              "0       4.0                0                  0                   0  ...   \n",
              "1       5.0                0                  1                   0  ...   \n",
              "2       5.0                0                  0                   0  ...   \n",
              "3       4.0                0                  0                   0  ...   \n",
              "4      10.0                1                  0                   0  ...   \n",
              "\n",
              "   credit_medium  coverage.type_B  coverage.type_C  dwelling.type_House  \\\n",
              "0              1                0                1                    0   \n",
              "1              1                0                0                    1   \n",
              "2              1                1                0                    0   \n",
              "3              0                1                0                    0   \n",
              "4              0                0                0                    0   \n",
              "\n",
              "   dwelling.type_Tenant  sales.channel_Online  sales.channel_Phone  \\\n",
              "0                     1                     0                    0   \n",
              "1                     0                     0                    1   \n",
              "2                     0                     0                    0   \n",
              "3                     0                     0                    0   \n",
              "4                     0                     0                    0   \n",
              "\n",
              "   ni.gender_M  bin_years_remaining_Long_term  bin_years_remaining_Short_term  \n",
              "0            0                              0                               0  \n",
              "1            0                              0                               1  \n",
              "2            1                              0                               0  \n",
              "3            1                              0                               1  \n",
              "4            0                              0                               1  \n",
              "\n",
              "[5 rows x 21 columns]"
            ]
          },
          "execution_count": 372,
          "metadata": {},
          "output_type": "execute_result"
        }
      ],
      "source": [
        "#Re-ordering columns\n",
        "test_encode = test_encode[X_train.columns]\n",
        "test_encode.head()"
      ]
    },
    {
      "cell_type": "markdown",
      "metadata": {
        "id": "DW_ZlY1N2_om"
      },
      "source": [
        "## Unbalanced Data"
      ]
    },
    {
      "cell_type": "code",
      "execution_count": null,
      "metadata": {
        "id": "keACqRqy2_om",
        "outputId": "03780c14-1157-46b5-ac62-0c32cfdd14b5"
      },
      "outputs": [
        {
          "data": {
            "image/png": "[encoded data removed]",
            "text/plain": [
              "<Figure size 432x288 with 1 Axes>"
            ]
          },
          "metadata": {
            "needs_background": "light"
          },
          "output_type": "display_data"
        },
        {
          "data": {
            "text/plain": [
              "<Figure size 432x288 with 0 Axes>"
            ]
          },
          "metadata": {},
          "output_type": "display_data"
        }
      ],
      "source": [
        "colors = [\"#0E20FB\", \"#03C017\", \"#FA0A2F\"]\n",
        "# Set your custom color palette\n",
        "customPalette = sns.set_palette(sns.color_palette(colors))\n",
        "total = float(len(train))\n",
        "ax = sns.countplot(x='cancel',data=train_encode,palette=customPalette)\n",
        "for p in ax.patches:\n",
        "    percentage = '{:.1f}%'.format(100 * p.get_height()/total)\n",
        "    x = p.get_x() + p.get_width()\n",
        "    y = p.get_height()\n",
        "    ax.annotate(percentage, (x, y),ha='center')\n",
        "plt.show()\n",
        "plt.show()\n",
        "plt.savefig('count_plot')"
      ]
    },
    {
      "cell_type": "code",
      "execution_count": null,
      "metadata": {
        "id": "77wHcTZr2_om",
        "outputId": "109475db-35fa-49da-b67e-886c95bc159d"
      },
      "outputs": [
        {
          "ename": "NameError",
          "evalue": "name 'test' is not defined",
          "output_type": "error",
          "traceback": [
            "\u001b[0;31m---------------------------------------------------------------------------\u001b[0m",
            "\u001b[0;31mNameError\u001b[0m                                 Traceback (most recent call last)",
            "\u001b[0;32m<ipython-input-79-3f6ddd7bdbc8>\u001b[0m in \u001b[0;36m<module>\u001b[0;34m\u001b[0m\n\u001b[1;32m      2\u001b[0m \u001b[0;31m# Set your custom color palette\u001b[0m\u001b[0;34m\u001b[0m\u001b[0;34m\u001b[0m\u001b[0;34m\u001b[0m\u001b[0m\n\u001b[1;32m      3\u001b[0m \u001b[0mcustomPalette\u001b[0m \u001b[0;34m=\u001b[0m \u001b[0msns\u001b[0m\u001b[0;34m.\u001b[0m\u001b[0mset_palette\u001b[0m\u001b[0;34m(\u001b[0m\u001b[0msns\u001b[0m\u001b[0;34m.\u001b[0m\u001b[0mcolor_palette\u001b[0m\u001b[0;34m(\u001b[0m\u001b[0mcolors\u001b[0m\u001b[0;34m)\u001b[0m\u001b[0;34m)\u001b[0m\u001b[0;34m\u001b[0m\u001b[0;34m\u001b[0m\u001b[0m\n\u001b[0;32m----> 4\u001b[0;31m \u001b[0mtotal\u001b[0m \u001b[0;34m=\u001b[0m \u001b[0mfloat\u001b[0m\u001b[0;34m(\u001b[0m\u001b[0mlen\u001b[0m\u001b[0;34m(\u001b[0m\u001b[0mtest\u001b[0m\u001b[0;34m)\u001b[0m\u001b[0;34m)\u001b[0m\u001b[0;34m\u001b[0m\u001b[0;34m\u001b[0m\u001b[0m\n\u001b[0m\u001b[1;32m      5\u001b[0m \u001b[0max\u001b[0m \u001b[0;34m=\u001b[0m \u001b[0msns\u001b[0m\u001b[0;34m.\u001b[0m\u001b[0mcountplot\u001b[0m\u001b[0;34m(\u001b[0m\u001b[0mx\u001b[0m\u001b[0;34m=\u001b[0m\u001b[0;34m'cancel'\u001b[0m\u001b[0;34m,\u001b[0m\u001b[0mdata\u001b[0m\u001b[0;34m=\u001b[0m\u001b[0mtest_encode\u001b[0m\u001b[0;34m,\u001b[0m\u001b[0mpalette\u001b[0m\u001b[0;34m=\u001b[0m\u001b[0mcustomPalette\u001b[0m\u001b[0;34m)\u001b[0m\u001b[0;34m\u001b[0m\u001b[0;34m\u001b[0m\u001b[0m\n\u001b[1;32m      6\u001b[0m \u001b[0;32mfor\u001b[0m \u001b[0mp\u001b[0m \u001b[0;32min\u001b[0m \u001b[0max\u001b[0m\u001b[0;34m.\u001b[0m\u001b[0mpatches\u001b[0m\u001b[0;34m:\u001b[0m\u001b[0;34m\u001b[0m\u001b[0;34m\u001b[0m\u001b[0m\n",
            "\u001b[0;31mNameError\u001b[0m: name 'test' is not defined"
          ]
        }
      ],
      "source": [
        "colors = [\"#0E20FB\", \"#03C017\", \"#FA0A2F\"]\n",
        "# Set your custom color palette\n",
        "customPalette = sns.set_palette(sns.color_palette(colors))\n",
        "total = float(len(test))\n",
        "ax = sns.countplot(x='cancel',data=test_encode,palette=customPalette)\n",
        "for p in ax.patches:\n",
        "    percentage = '{:.1f}%'.format(100 * p.get_height()/total)\n",
        "    x = p.get_x() + p.get_width()\n",
        "    y = p.get_height()\n",
        "    ax.annotate(percentage, (x, y),ha='center')\n",
        "plt.show()\n",
        "plt.show()\n",
        "plt.savefig('count_plot')"
      ]
    },
    {
      "cell_type": "markdown",
      "metadata": {
        "id": "dL1HBBC92_om"
      },
      "source": [
        "## SMOTE (OverSampling)"
      ]
    },
    {
      "cell_type": "code",
      "execution_count": null,
      "metadata": {
        "id": "Xiu-2f2H2_om"
      },
      "outputs": [],
      "source": [
        "from imblearn.over_sampling import SMOTE\n",
        "os = SMOTE(random_state=0)\n",
        "os_data_X,os_data_y=os.fit_sample(X_train, Y_train)\n",
        "\n",
        "\n"
      ]
    },
    {
      "cell_type": "code",
      "execution_count": null,
      "metadata": {
        "id": "wXoFbQrc2_on"
      },
      "outputs": [],
      "source": [
        "columns = X_train.columns\n",
        "\n",
        "os_data_X = pd.DataFrame(data=os_data_X,columns=columns )\n",
        "os_data_y= pd.DataFrame(data=os_data_y,columns=['cancel'])"
      ]
    },
    {
      "cell_type": "code",
      "execution_count": null,
      "metadata": {
        "id": "hsNzcSOP2_on"
      },
      "outputs": [],
      "source": []
    },
    {
      "cell_type": "code",
      "execution_count": null,
      "metadata": {
        "id": "TJcKBFT12_on",
        "outputId": "0ebd6478-7e42-4c33-cedc-177c62d2abd3"
      },
      "outputs": [
        {
          "data": {
            "image/png": "[encoded data removed]",
            "text/plain": [
              "<Figure size 432x288 with 1 Axes>"
            ]
          },
          "metadata": {
            "needs_background": "light"
          },
          "output_type": "display_data"
        },
        {
          "data": {
            "text/plain": [
              "<Figure size 432x288 with 0 Axes>"
            ]
          },
          "metadata": {},
          "output_type": "display_data"
        }
      ],
      "source": [
        "# Graph"
      ]
    },
    {
      "cell_type": "markdown",
      "metadata": {
        "id": "4QoMX8io2_on"
      },
      "source": [
        "## Undersampling"
      ]
    },
    {
      "cell_type": "markdown",
      "metadata": {
        "id": "zF--1gAV2_on"
      },
      "source": [
        "## Metric definitions"
      ]
    },
    {
      "cell_type": "code",
      "execution_count": null,
      "metadata": {
        "id": "4qxqj1V_2_on"
      },
      "outputs": [],
      "source": [
        "from sklearn.metrics import accuracy_score\n",
        "from sklearn.metrics import classification_report\n",
        "from sklearn.metrics import ConfusionMatrixDisplay\n",
        "def accuracy_params(y_true,y_pred):\n",
        "    print(\"Accuracy of the model is:\",accuracy_score(y_true, y_pred))\n",
        "    target_names = ['class 0', 'class 1', 'class 2']\n",
        "    print(classification_report(y_true, y_pred, target_names=target_names))\n",
        "    cm = confusion_matrix(Y_val, y_pred)\n",
        "    cm_display = ConfusionMatrixDisplay(cm).plot()\n",
        "    \n",
        "    "
      ]
    },
    {
      "cell_type": "markdown",
      "metadata": {
        "id": "pnCJx2XM2_on"
      },
      "source": [
        "## Logistic Regression"
      ]
    },
    {
      "cell_type": "code",
      "execution_count": null,
      "metadata": {
        "id": "crkAvayy2_on"
      },
      "outputs": [],
      "source": [
        "from sklearn.linear_model  import LogisticRegression\n",
        "from sklearn import linear_model\n",
        "from sklearn.preprocessing import StandardScaler\n",
        "from sklearn.feature_selection import RFE"
      ]
    },
    {
      "cell_type": "markdown",
      "metadata": {
        "id": "z0GcGiBb2_on"
      },
      "source": [
        "###  lg1 LR without any parameters"
      ]
    },
    {
      "cell_type": "code",
      "execution_count": null,
      "metadata": {
        "id": "hVQpuixB2_oo",
        "outputId": "c1ced5fe-2e95-407d-8317-09141fb8068f"
      },
      "outputs": [
        {
          "name": "stderr",
          "output_type": "stream",
          "text": [
            "/cis/home/achatto1/anaconda3/lib/python3.8/site-packages/sklearn/linear_model/_logistic.py:814: ConvergenceWarning: lbfgs failed to converge (status=1):\n",
            "STOP: TOTAL NO. of ITERATIONS REACHED LIMIT.\n",
            "\n",
            "Increase the number of iterations (max_iter) or scale the data as shown in:\n",
            "    https://scikit-learn.org/stable/modules/preprocessing.html\n",
            "Please also refer to the documentation for alternative solver options:\n",
            "    https://scikit-learn.org/stable/modules/linear_model.html#logistic-regression\n",
            "  n_iter_i = _check_optimize_result(\n"
          ]
        },
        {
          "name": "stdout",
          "output_type": "stream",
          "text": [
            "Accuracy of the model is: 0.6278764797815581\n",
            "              precision    recall  f1-score   support\n",
            "\n",
            "     class 0       0.68      0.68      0.68     18568\n",
            "     class 1       0.48      0.43      0.46     18395\n",
            "     class 2       0.70      0.77      0.73     18704\n",
            "\n",
            "    accuracy                           0.63     55667\n",
            "   macro avg       0.62      0.63      0.62     55667\n",
            "weighted avg       0.62      0.63      0.62     55667\n",
            "\n"
          ]
        },
        {
          "data": {
            "image/png": "[encoded data removed]",
            "text/plain": [
              "<Figure size 432x288 with 2 Axes>"
            ]
          },
          "metadata": {
            "needs_background": "light"
          },
          "output_type": "display_data"
        }
      ],
      "source": [
        "# define model\n",
        "lg1 = LogisticRegression(random_state=13, class_weight=None)\n",
        "# fit it\n",
        "lg1.fit(X_train,Y_train)\n",
        "# test\n",
        "y_pred1 = lg1.predict(X_val)\n",
        "y_prob1 = lg1.predict_proba(X_val)\n",
        "accuracy_params(Y_val,y_pred1)"
      ]
    },
    {
      "cell_type": "code",
      "execution_count": null,
      "metadata": {
        "id": "b_GxA9Jp2_oo",
        "outputId": "86f81299-2cf7-4bf4-eeef-53a3928cc91f"
      },
      "outputs": [
        {
          "data": {
            "image/png": "[encoded data removed]",
            "text/plain": [
              "<Figure size 432x288 with 1 Axes>"
            ]
          },
          "metadata": {
            "needs_background": "light"
          },
          "output_type": "display_data"
        },
        {
          "data": {
            "image/png": "[encoded data removed]",
            "text/plain": [
              "<Figure size 432x288 with 1 Axes>"
            ]
          },
          "metadata": {
            "needs_background": "light"
          },
          "output_type": "display_data"
        },
        {
          "data": {
            "image/png": "[encoded data removed]",
            "text/plain": [
              "<Figure size 432x288 with 1 Axes>"
            ]
          },
          "metadata": {
            "needs_background": "light"
          },
          "output_type": "display_data"
        }
      ],
      "source": [
        "probability_thresholds = np.linspace(0, 1, num=100)\n",
        "\n",
        "real0 = np.where(Y_val==0,1,0)\n",
        "real1 = np.where(Y_val==1,1,0)\n",
        "real2 = np.where(Y_val==2,1,0)\n",
        "\n",
        "\n",
        "pred0 = y_prob1[:,0]\n",
        "pred1 = y_prob1[:,1]\n",
        "pred2 = y_prob1[:,2]\n",
        "\n",
        "from sklearn.metrics import PrecisionRecallDisplay\n",
        "\n",
        "display = PrecisionRecallDisplay.from_predictions(real0, pred0, name=\"LinearSVC\")\n",
        "_ = display.ax_.set_title(\"2-class Precision-Recall curve\")\n",
        "\n",
        "display = PrecisionRecallDisplay.from_predictions(real1, pred1, name=\"LinearSVC\")\n",
        "_ = display.ax_.set_title(\"2-class Precision-Recall curve\")\n",
        "\n",
        "display = PrecisionRecallDisplay.from_predictions(real2, pred2, name=\"LinearSVC\")\n",
        "_ = display.ax_.set_title(\"2-class Precision-Recall curve\")\n"
      ]
    },
    {
      "cell_type": "markdown",
      "metadata": {
        "id": "nHka6mFU2_oo"
      },
      "source": [
        "### lg2 LR with class weights"
      ]
    },
    {
      "cell_type": "code",
      "execution_count": null,
      "metadata": {
        "scrolled": true,
        "id": "ubgp9rOH2_oo",
        "outputId": "37c1b56c-6460-455f-af79-2df711d66b47"
      },
      "outputs": [
        {
          "name": "stderr",
          "output_type": "stream",
          "text": [
            "/cis/home/achatto1/anaconda3/lib/python3.8/site-packages/sklearn/linear_model/_logistic.py:814: ConvergenceWarning: lbfgs failed to converge (status=1):\n",
            "STOP: TOTAL NO. of ITERATIONS REACHED LIMIT.\n",
            "\n",
            "Increase the number of iterations (max_iter) or scale the data as shown in:\n",
            "    https://scikit-learn.org/stable/modules/preprocessing.html\n",
            "Please also refer to the documentation for alternative solver options:\n",
            "    https://scikit-learn.org/stable/modules/linear_model.html#logistic-regression\n",
            "  n_iter_i = _check_optimize_result(\n"
          ]
        },
        {
          "name": "stdout",
          "output_type": "stream",
          "text": [
            "Accuracy of the model is: 0.8407048369181056\n",
            "              precision    recall  f1-score   support\n",
            "\n",
            "     class 0       0.84      0.95      0.89    182415\n",
            "     class 1       0.47      0.14      0.22     18633\n",
            "     class 2       0.87      0.71      0.78     56430\n",
            "\n",
            "    accuracy                           0.84    257478\n",
            "   macro avg       0.73      0.60      0.63    257478\n",
            "weighted avg       0.82      0.84      0.82    257478\n",
            "\n"
          ]
        },
        {
          "data": {
            "image/png": "[encoded data removed]",
            "text/plain": [
              "<Figure size 432x288 with 2 Axes>"
            ]
          },
          "metadata": {
            "needs_background": "light"
          },
          "output_type": "display_data"
        }
      ],
      "source": [
        "w1 = {0:1/100.0,1:1/7.2,2:1/20}\n",
        "lg2 = LogisticRegression(max_iter=100)\n",
        "# fit it\n",
        "lg2.fit(X_train,Y_train)\n",
        "# test\n",
        "y_pred = lg2.predict(X_val)\n",
        "y_prob = lg2.predict_proba(X_val)\n",
        "accuracy_params(Y_val,y_pred)"
      ]
    },
    {
      "cell_type": "code",
      "execution_count": null,
      "metadata": {
        "id": "EHM_SnTK2_oo"
      },
      "outputs": [],
      "source": [
        "probability_thresholds = np.linspace(0, 1, num=100)\n",
        "\n",
        "real0 = np.where(Y_val==0,1,0)\n",
        "real1 = np.where(Y_val==1,1,0)\n",
        "real2 = np.where(Y_val==2,1,0)\n",
        "\n",
        "\n",
        "pred0 = y_prob[:,0]\n",
        "pred1 = y_prob[:,1]\n",
        "pred2 = y_prob[:,2]\n",
        "\n",
        "\n",
        "from sklearn.metrics import PrecisionRecallDisplay\n",
        "\n",
        "display = PrecisionRecallDisplay.from_predictions(real0, pred0, name=\"Class-0\")\n",
        "_ = display.ax_.set_title(\"0-class Precision-Recall curve\")\n",
        "\n",
        "display = PrecisionRecallDisplay.from_predictions(real1, pred1, name=\"Class-1\")\n",
        "_ = display.ax_.set_title(\"1-class Precision-Recall curve\")\n",
        "\n",
        "display = PrecisionRecallDisplay.from_predictions(real2, pred2, name=\"Class-2\")\n",
        "_ = display.ax_.set_title(\"2-class Precision-Recall curve\")\n"
      ]
    },
    {
      "cell_type": "code",
      "execution_count": null,
      "metadata": {
        "id": "g9CZAcLK2_oo",
        "outputId": "2899833a-bf23-443d-9bac-1bc213fa3069"
      },
      "outputs": [
        {
          "data": {
            "image/png": "[encoded data removed]",
            "text/plain": [
              "<Figure size 432x288 with 1 Axes>"
            ]
          },
          "metadata": {
            "needs_background": "light"
          },
          "output_type": "display_data"
        },
        {
          "data": {
            "image/png": "[encoded data removed]",
            "text/plain": [
              "<Figure size 432x288 with 1 Axes>"
            ]
          },
          "metadata": {
            "needs_background": "light"
          },
          "output_type": "display_data"
        },
        {
          "data": {
            "image/png": "[encoded data removed]",
            "text/plain": [
              "<Figure size 432x288 with 1 Axes>"
            ]
          },
          "metadata": {
            "needs_background": "light"
          },
          "output_type": "display_data"
        }
      ],
      "source": []
    },
    {
      "cell_type": "markdown",
      "metadata": {
        "id": "Dr3Oc3An2_oo"
      },
      "source": [
        "## Decision Tree"
      ]
    },
    {
      "cell_type": "code",
      "execution_count": null,
      "metadata": {
        "id": "wqIxn_zL2_oo",
        "outputId": "63e05516-b187-4a49-cdac-1e7457eb972b"
      },
      "outputs": [
        {
          "name": "stdout",
          "output_type": "stream",
          "text": [
            "Accuracy of the model is: 0.7201430801854916\n",
            "              precision    recall  f1-score   support\n",
            "\n",
            "     class 0       0.73      0.96      0.83    182415\n",
            "     class 1       0.19      0.00      0.00     18633\n",
            "     class 2       0.58      0.18      0.27     56430\n",
            "\n",
            "    accuracy                           0.72    257478\n",
            "   macro avg       0.50      0.38      0.37    257478\n",
            "weighted avg       0.66      0.72      0.65    257478\n",
            "\n"
          ]
        },
        {
          "data": {
            "image/png": "[encoded data removed]",
            "text/plain": [
              "<Figure size 432x288 with 2 Axes>"
            ]
          },
          "metadata": {
            "needs_background": "light"
          },
          "output_type": "display_data"
        }
      ],
      "source": [
        "from sklearn import tree\n",
        "clf = tree.DecisionTreeClassifier(max_depth=9)\n",
        "clf = clf.fit(X_train,Y_train)\n",
        "pred2 = clf.predict(X_val)\n",
        "prob2 = clf.predict_proba(X_val)\n",
        "accuracy_params(Y_val,pred2)\n"
      ]
    },
    {
      "cell_type": "code",
      "execution_count": null,
      "metadata": {
        "id": "39CfFPWE2_oo",
        "outputId": "54f531f9-0b51-4481-80dc-b83ea9821505"
      },
      "outputs": [
        {
          "data": {
            "text/plain": [
              "array([[7.36793963e-01, 6.47915237e-02, 1.98414513e-01],\n",
              "       [5.98116891e-01, 9.95521874e-02, 3.02330922e-01],\n",
              "       [7.82252560e-01, 3.48122867e-02, 1.82935154e-01],\n",
              "       ...,\n",
              "       [9.16662270e-01, 1.31905239e-04, 8.32058249e-02],\n",
              "       [5.67567568e-01, 6.75675676e-02, 3.64864865e-01],\n",
              "       [5.98116891e-01, 9.95521874e-02, 3.02330922e-01]])"
            ]
          },
          "execution_count": 544,
          "metadata": {},
          "output_type": "execute_result"
        }
      ],
      "source": [
        "prob2"
      ]
    },
    {
      "cell_type": "code",
      "execution_count": null,
      "metadata": {
        "id": "DonapAaX2_oo",
        "outputId": "38c5dbc6-b72d-47e5-d304-563f1178ecd3"
      },
      "outputs": [
        {
          "data": {
            "image/png": "[encoded data removed]",
            "text/plain": [
              "<Figure size 432x288 with 1 Axes>"
            ]
          },
          "metadata": {
            "needs_background": "light"
          },
          "output_type": "display_data"
        },
        {
          "data": {
            "image/png": "[encoded data removed]",
            "text/plain": [
              "<Figure size 432x288 with 1 Axes>"
            ]
          },
          "metadata": {
            "needs_background": "light"
          },
          "output_type": "display_data"
        },
        {
          "data": {
            "image/png": "[encoded data removed]",
            "text/plain": [
              "<Figure size 432x288 with 1 Axes>"
            ]
          },
          "metadata": {
            "needs_background": "light"
          },
          "output_type": "display_data"
        }
      ],
      "source": [
        "probability_thresholds = np.linspace(0, 1, num=100)\n",
        "\n",
        "real0 = np.where(Y_val==0,1,0)\n",
        "real1 = np.where(Y_val==1,1,0)\n",
        "real2 = np.where(Y_val==2,1,0)\n",
        "\n",
        "\n",
        "pred0 = prob2[:,0]\n",
        "pred1 = prob2[:,1]\n",
        "pred2 = prob2[:,2]\n",
        "\n",
        "from sklearn.metrics import PrecisionRecallDisplay\n",
        "\n",
        "display = PrecisionRecallDisplay.from_predictions(real0, pred0, name=\"LinearSVC\")\n",
        "_ = display.ax_.set_title(\"2-class Precision-Recall curve\")\n",
        "\n",
        "display = PrecisionRecallDisplay.from_predictions(real1, pred1, name=\"LinearSVC\")\n",
        "_ = display.ax_.set_title(\"2-class Precision-Recall curve\")\n",
        "\n",
        "display = PrecisionRecallDisplay.from_predictions(real2, pred2, name=\"LinearSVC\")\n",
        "_ = display.ax_.set_title(\"2-class Precision-Recall curve\")\n"
      ]
    },
    {
      "cell_type": "markdown",
      "metadata": {
        "id": "Aq4eDLUk2_op"
      },
      "source": [
        "## XGB Boost"
      ]
    },
    {
      "cell_type": "code",
      "execution_count": null,
      "metadata": {
        "id": "oTPY1QhS2_op"
      },
      "outputs": [],
      "source": [
        "from xgboost.sklearn import XGBClassifier\n",
        "#initial model\n",
        "xgb1 = XGBClassifier(num_class=3,\n",
        "                                  learning_rate=0.1,\n",
        "                                  num_iterations=1000,\n",
        "                                  max_depth=10,\n",
        "                                  feature_fraction=0.7, \n",
        "                                  scale_pos_weight=5,\n",
        "                                  boosting='gbdt',\n",
        "                                  metric='multiclass',\n",
        "                                  eval_metric='mlogloss')"
      ]
    },
    {
      "cell_type": "code",
      "execution_count": null,
      "metadata": {
        "id": "mMe6WZ3A2_op"
      },
      "outputs": [],
      "source": [
        "import xgboost as xgb\n",
        "import matplotlib.pyplot as plt\n",
        "from sklearn.metrics import accuracy_score\n",
        "\n",
        "#allow logloss and classification error plots for each iteraetion of xgb model\n",
        "def plot_compare(metrics,eval_results,epochs):\n",
        "    for m in metrics:\n",
        "        test_score = eval_results['val'][m]\n",
        "        train_score = eval_results['train'][m]\n",
        "        rang = range(0, epochs)\n",
        "        plt.rcParams[\"figure.figsize\"] = [6,6]\n",
        "        plt.plot(rang, test_score,\"c\", label=\"Val\")\n",
        "        plt.plot(rang, train_score,\"orange\", label=\"Train\")\n",
        "        title_name = m + \" plot\"\n",
        "        plt.title(title_name)\n",
        "        plt.xlabel('Iterations')\n",
        "        plt.ylabel(m)\n",
        "        lgd = plt.legend()\n",
        "        plt.show()\n",
        "        \n",
        "def fitXgb(sk_model, X,y,X1,y1,epochs=300):\n",
        "    print('Fitting model...')\n",
        "    sk_model.fit(X, y)\n",
        "    print('Fitting done!')\n",
        "    train = xgb.DMatrix(X, label=y)\n",
        "    val = xgb.DMatrix(X, label=y)\n",
        "    params = sk_model.get_xgb_params()\n",
        "    metrics = ['mlogloss','merror']\n",
        "    params['eval_metric'] = metrics\n",
        "    store = {}\n",
        "    evallist = [(val, 'val'),(train,'train')]\n",
        "    xgb_model = xgb.train(params, train, epochs, evallist,evals_result=store,verbose_eval=100)\n",
        "    #print('-- Model Report --')\n",
        "    #print('XGBoost Accuracy: '+str(accuracy_score(sk_model.predict(X1),y1)))\n",
        "    #print('XGBoost F1-Score (Micro): '+str(f1_score(sk_model.predict(X1),y1,average='micro')))\n",
        "    #plot_compare(metrics,store,epochs)\n",
        "    #features = ['nTouchpoints', 'single', 'divorced', 'married', 'unknown', 'P4',\n",
        "     #  'P3', 'P2', 'P1', 'U', 'N', 'Y', 'C', 'B', 'D', 'A', 'F', 'E', 'New',\n",
        "     #  'G', 'nAveSpend', 'nIncome', 'nAge']\n",
        "    #f, ax = plt.subplots(figsize=(10,5))\n",
        "    #plot = sns.barplot(x=features, y=sk_model.feature_importances_)\n",
        "    #ax.set_title('Feature Importance')\n",
        "    #plot.set_xticklabels(plot.get_xticklabels(),rotation='vertical')\n",
        "    #plt.show()"
      ]
    },
    {
      "cell_type": "code",
      "execution_count": null,
      "metadata": {
        "scrolled": false,
        "id": "tTUK6G-P2_op",
        "outputId": "f841e37d-5db2-40f7-fb09-4b451e9526e9"
      },
      "outputs": [
        {
          "name": "stdout",
          "output_type": "stream",
          "text": [
            "Fitting model...\n",
            "[13:10:30] WARNING: ../src/learner.cc:627: \n",
            "Parameters: { \"boosting\", \"feature_fraction\", \"metric\", \"num_iterations\", \"scale_pos_weight\" } might not be used.\n",
            "\n",
            "  This could be a false alarm, with some parameters getting used by language bindings but\n",
            "  then being mistakenly passed down to XGBoost core, or some parameter actually being used\n",
            "  but getting flagged wrongly here. Please open an issue if you find any such cases.\n",
            "\n",
            "\n"
          ]
        },
        {
          "ename": "KeyboardInterrupt",
          "evalue": "",
          "output_type": "error",
          "traceback": [
            "\u001b[0;31m---------------------------------------------------------------------------\u001b[0m",
            "\u001b[0;31mKeyboardInterrupt\u001b[0m                         Traceback (most recent call last)",
            "\u001b[0;32m<ipython-input-33-c99cb894399d>\u001b[0m in \u001b[0;36m<module>\u001b[0;34m\u001b[0m\n\u001b[1;32m      2\u001b[0m \u001b[0;31m#xgb.set_config(verbosity=0)\u001b[0m\u001b[0;34m\u001b[0m\u001b[0;34m\u001b[0m\u001b[0;34m\u001b[0m\u001b[0m\n\u001b[1;32m      3\u001b[0m \u001b[0;34m\u001b[0m\u001b[0m\n\u001b[0;32m----> 4\u001b[0;31m \u001b[0mfitXgb\u001b[0m\u001b[0;34m(\u001b[0m\u001b[0mxgb1\u001b[0m\u001b[0;34m,\u001b[0m\u001b[0mX_train\u001b[0m\u001b[0;34m,\u001b[0m\u001b[0mY_train\u001b[0m\u001b[0;34m,\u001b[0m\u001b[0mX_val\u001b[0m\u001b[0;34m,\u001b[0m\u001b[0mY_val\u001b[0m\u001b[0;34m,\u001b[0m \u001b[0mepochs\u001b[0m\u001b[0;34m)\u001b[0m\u001b[0;34m\u001b[0m\u001b[0;34m\u001b[0m\u001b[0m\n\u001b[0m",
            "\u001b[0;32m<ipython-input-28-2ebd3c0464a5>\u001b[0m in \u001b[0;36mfitXgb\u001b[0;34m(sk_model, X, y, X1, y1, epochs)\u001b[0m\n\u001b[1;32m     21\u001b[0m \u001b[0;32mdef\u001b[0m \u001b[0mfitXgb\u001b[0m\u001b[0;34m(\u001b[0m\u001b[0msk_model\u001b[0m\u001b[0;34m,\u001b[0m \u001b[0mX\u001b[0m\u001b[0;34m,\u001b[0m\u001b[0my\u001b[0m\u001b[0;34m,\u001b[0m\u001b[0mX1\u001b[0m\u001b[0;34m,\u001b[0m\u001b[0my1\u001b[0m\u001b[0;34m,\u001b[0m\u001b[0mepochs\u001b[0m\u001b[0;34m=\u001b[0m\u001b[0;36m300\u001b[0m\u001b[0;34m)\u001b[0m\u001b[0;34m:\u001b[0m\u001b[0;34m\u001b[0m\u001b[0;34m\u001b[0m\u001b[0m\n\u001b[1;32m     22\u001b[0m     \u001b[0mprint\u001b[0m\u001b[0;34m(\u001b[0m\u001b[0;34m'Fitting model...'\u001b[0m\u001b[0;34m)\u001b[0m\u001b[0;34m\u001b[0m\u001b[0;34m\u001b[0m\u001b[0m\n\u001b[0;32m---> 23\u001b[0;31m     \u001b[0msk_model\u001b[0m\u001b[0;34m.\u001b[0m\u001b[0mfit\u001b[0m\u001b[0;34m(\u001b[0m\u001b[0mX\u001b[0m\u001b[0;34m,\u001b[0m \u001b[0my\u001b[0m\u001b[0;34m)\u001b[0m\u001b[0;34m\u001b[0m\u001b[0;34m\u001b[0m\u001b[0m\n\u001b[0m\u001b[1;32m     24\u001b[0m     \u001b[0mprint\u001b[0m\u001b[0;34m(\u001b[0m\u001b[0;34m'Fitting done!'\u001b[0m\u001b[0;34m)\u001b[0m\u001b[0;34m\u001b[0m\u001b[0;34m\u001b[0m\u001b[0m\n\u001b[1;32m     25\u001b[0m     \u001b[0mtrain\u001b[0m \u001b[0;34m=\u001b[0m \u001b[0mxgb\u001b[0m\u001b[0;34m.\u001b[0m\u001b[0mDMatrix\u001b[0m\u001b[0;34m(\u001b[0m\u001b[0mX\u001b[0m\u001b[0;34m,\u001b[0m \u001b[0mlabel\u001b[0m\u001b[0;34m=\u001b[0m\u001b[0my\u001b[0m\u001b[0;34m)\u001b[0m\u001b[0;34m\u001b[0m\u001b[0;34m\u001b[0m\u001b[0m\n",
            "\u001b[0;32m~/anaconda3/lib/python3.8/site-packages/xgboost/core.py\u001b[0m in \u001b[0;36minner_f\u001b[0;34m(*args, **kwargs)\u001b[0m\n\u001b[1;32m    530\u001b[0m         \u001b[0;32mfor\u001b[0m \u001b[0mk\u001b[0m\u001b[0;34m,\u001b[0m \u001b[0marg\u001b[0m \u001b[0;32min\u001b[0m \u001b[0mzip\u001b[0m\u001b[0;34m(\u001b[0m\u001b[0msig\u001b[0m\u001b[0;34m.\u001b[0m\u001b[0mparameters\u001b[0m\u001b[0;34m,\u001b[0m \u001b[0margs\u001b[0m\u001b[0;34m)\u001b[0m\u001b[0;34m:\u001b[0m\u001b[0;34m\u001b[0m\u001b[0;34m\u001b[0m\u001b[0m\n\u001b[1;32m    531\u001b[0m             \u001b[0mkwargs\u001b[0m\u001b[0;34m[\u001b[0m\u001b[0mk\u001b[0m\u001b[0;34m]\u001b[0m \u001b[0;34m=\u001b[0m \u001b[0marg\u001b[0m\u001b[0;34m\u001b[0m\u001b[0;34m\u001b[0m\u001b[0m\n\u001b[0;32m--> 532\u001b[0;31m         \u001b[0;32mreturn\u001b[0m \u001b[0mf\u001b[0m\u001b[0;34m(\u001b[0m\u001b[0;34m**\u001b[0m\u001b[0mkwargs\u001b[0m\u001b[0;34m)\u001b[0m\u001b[0;34m\u001b[0m\u001b[0;34m\u001b[0m\u001b[0m\n\u001b[0m\u001b[1;32m    533\u001b[0m \u001b[0;34m\u001b[0m\u001b[0m\n\u001b[1;32m    534\u001b[0m     \u001b[0;32mreturn\u001b[0m \u001b[0minner_f\u001b[0m\u001b[0;34m\u001b[0m\u001b[0;34m\u001b[0m\u001b[0m\n",
            "\u001b[0;32m~/anaconda3/lib/python3.8/site-packages/xgboost/sklearn.py\u001b[0m in \u001b[0;36mfit\u001b[0;34m(self, X, y, sample_weight, base_margin, eval_set, eval_metric, early_stopping_rounds, verbose, xgb_model, sample_weight_eval_set, base_margin_eval_set, feature_weights, callbacks)\u001b[0m\n\u001b[1;32m   1398\u001b[0m         )\n\u001b[1;32m   1399\u001b[0m \u001b[0;34m\u001b[0m\u001b[0m\n\u001b[0;32m-> 1400\u001b[0;31m         self._Booster = train(\n\u001b[0m\u001b[1;32m   1401\u001b[0m             \u001b[0mparams\u001b[0m\u001b[0;34m,\u001b[0m\u001b[0;34m\u001b[0m\u001b[0;34m\u001b[0m\u001b[0m\n\u001b[1;32m   1402\u001b[0m             \u001b[0mtrain_dmatrix\u001b[0m\u001b[0;34m,\u001b[0m\u001b[0;34m\u001b[0m\u001b[0;34m\u001b[0m\u001b[0m\n",
            "\u001b[0;32m~/anaconda3/lib/python3.8/site-packages/xgboost/core.py\u001b[0m in \u001b[0;36minner_f\u001b[0;34m(*args, **kwargs)\u001b[0m\n\u001b[1;32m    530\u001b[0m         \u001b[0;32mfor\u001b[0m \u001b[0mk\u001b[0m\u001b[0;34m,\u001b[0m \u001b[0marg\u001b[0m \u001b[0;32min\u001b[0m \u001b[0mzip\u001b[0m\u001b[0;34m(\u001b[0m\u001b[0msig\u001b[0m\u001b[0;34m.\u001b[0m\u001b[0mparameters\u001b[0m\u001b[0;34m,\u001b[0m \u001b[0margs\u001b[0m\u001b[0;34m)\u001b[0m\u001b[0;34m:\u001b[0m\u001b[0;34m\u001b[0m\u001b[0;34m\u001b[0m\u001b[0m\n\u001b[1;32m    531\u001b[0m             \u001b[0mkwargs\u001b[0m\u001b[0;34m[\u001b[0m\u001b[0mk\u001b[0m\u001b[0;34m]\u001b[0m \u001b[0;34m=\u001b[0m \u001b[0marg\u001b[0m\u001b[0;34m\u001b[0m\u001b[0;34m\u001b[0m\u001b[0m\n\u001b[0;32m--> 532\u001b[0;31m         \u001b[0;32mreturn\u001b[0m \u001b[0mf\u001b[0m\u001b[0;34m(\u001b[0m\u001b[0;34m**\u001b[0m\u001b[0mkwargs\u001b[0m\u001b[0;34m)\u001b[0m\u001b[0;34m\u001b[0m\u001b[0;34m\u001b[0m\u001b[0m\n\u001b[0m\u001b[1;32m    533\u001b[0m \u001b[0;34m\u001b[0m\u001b[0m\n\u001b[1;32m    534\u001b[0m     \u001b[0;32mreturn\u001b[0m \u001b[0minner_f\u001b[0m\u001b[0;34m\u001b[0m\u001b[0;34m\u001b[0m\u001b[0m\n",
            "\u001b[0;32m~/anaconda3/lib/python3.8/site-packages/xgboost/training.py\u001b[0m in \u001b[0;36mtrain\u001b[0;34m(params, dtrain, num_boost_round, evals, obj, feval, maximize, early_stopping_rounds, evals_result, verbose_eval, xgb_model, callbacks, custom_metric)\u001b[0m\n\u001b[1;32m    179\u001b[0m         \u001b[0;32mif\u001b[0m \u001b[0mcb_container\u001b[0m\u001b[0;34m.\u001b[0m\u001b[0mbefore_iteration\u001b[0m\u001b[0;34m(\u001b[0m\u001b[0mbst\u001b[0m\u001b[0;34m,\u001b[0m \u001b[0mi\u001b[0m\u001b[0;34m,\u001b[0m \u001b[0mdtrain\u001b[0m\u001b[0;34m,\u001b[0m \u001b[0mevals\u001b[0m\u001b[0;34m)\u001b[0m\u001b[0;34m:\u001b[0m\u001b[0;34m\u001b[0m\u001b[0;34m\u001b[0m\u001b[0m\n\u001b[1;32m    180\u001b[0m             \u001b[0;32mbreak\u001b[0m\u001b[0;34m\u001b[0m\u001b[0;34m\u001b[0m\u001b[0m\n\u001b[0;32m--> 181\u001b[0;31m         \u001b[0mbst\u001b[0m\u001b[0;34m.\u001b[0m\u001b[0mupdate\u001b[0m\u001b[0;34m(\u001b[0m\u001b[0mdtrain\u001b[0m\u001b[0;34m,\u001b[0m \u001b[0mi\u001b[0m\u001b[0;34m,\u001b[0m \u001b[0mobj\u001b[0m\u001b[0;34m)\u001b[0m\u001b[0;34m\u001b[0m\u001b[0;34m\u001b[0m\u001b[0m\n\u001b[0m\u001b[1;32m    182\u001b[0m         \u001b[0;32mif\u001b[0m \u001b[0mcb_container\u001b[0m\u001b[0;34m.\u001b[0m\u001b[0mafter_iteration\u001b[0m\u001b[0;34m(\u001b[0m\u001b[0mbst\u001b[0m\u001b[0;34m,\u001b[0m \u001b[0mi\u001b[0m\u001b[0;34m,\u001b[0m \u001b[0mdtrain\u001b[0m\u001b[0;34m,\u001b[0m \u001b[0mevals\u001b[0m\u001b[0;34m)\u001b[0m\u001b[0;34m:\u001b[0m\u001b[0;34m\u001b[0m\u001b[0;34m\u001b[0m\u001b[0m\n\u001b[1;32m    183\u001b[0m             \u001b[0;32mbreak\u001b[0m\u001b[0;34m\u001b[0m\u001b[0;34m\u001b[0m\u001b[0m\n",
            "\u001b[0;32m~/anaconda3/lib/python3.8/site-packages/xgboost/core.py\u001b[0m in \u001b[0;36mupdate\u001b[0;34m(self, dtrain, iteration, fobj)\u001b[0m\n\u001b[1;32m   1731\u001b[0m \u001b[0;34m\u001b[0m\u001b[0m\n\u001b[1;32m   1732\u001b[0m         \u001b[0;32mif\u001b[0m \u001b[0mfobj\u001b[0m \u001b[0;32mis\u001b[0m \u001b[0;32mNone\u001b[0m\u001b[0;34m:\u001b[0m\u001b[0;34m\u001b[0m\u001b[0;34m\u001b[0m\u001b[0m\n\u001b[0;32m-> 1733\u001b[0;31m             _check_call(_LIB.XGBoosterUpdateOneIter(self.handle,\n\u001b[0m\u001b[1;32m   1734\u001b[0m                                                     \u001b[0mctypes\u001b[0m\u001b[0;34m.\u001b[0m\u001b[0mc_int\u001b[0m\u001b[0;34m(\u001b[0m\u001b[0miteration\u001b[0m\u001b[0;34m)\u001b[0m\u001b[0;34m,\u001b[0m\u001b[0;34m\u001b[0m\u001b[0;34m\u001b[0m\u001b[0m\n\u001b[1;32m   1735\u001b[0m                                                     dtrain.handle))\n",
            "\u001b[0;31mKeyboardInterrupt\u001b[0m: "
          ]
        }
      ],
      "source": [
        "epochs = 1\n",
        "#xgb.set_config(verbosity=0)\n",
        "\n",
        "fitXgb(xgb1,X_train,Y_train,X_val,Y_val, epochs)"
      ]
    },
    {
      "cell_type": "code",
      "execution_count": null,
      "metadata": {
        "id": "JupeUlQu2_op",
        "outputId": "e976a826-4972-400c-a070-88db5d105c7f"
      },
      "outputs": [
        {
          "name": "stdout",
          "output_type": "stream",
          "text": [
            "[0.00290257 0.00149517 0.00142013 0.27357668 0.00783759 0.0125246\n",
            " 0.01793677 0.00177721 0.0026856  0.0012366  0.22015247 0.09824191\n",
            " 0.00329695 0.00682756 0.05443861 0.0131347  0.04671152 0.1984928\n",
            " 0.02491546 0.00244498 0.0079502 ]\n",
            "Index(['ni.age', 'len.at.res', 'premium', 'ni.marital.status', 'claim.ind',\n",
            "       'zone', 'n.family', 'house.color_red', 'house.color_white',\n",
            "       'house.color_yellow', 'credit_low', 'credit_medium', 'coverage.type_B',\n",
            "       'coverage.type_C', 'dwelling.type_House', 'dwelling.type_Tenant',\n",
            "       'sales.channel_Online', 'sales.channel_Phone', 'ni.gender_M',\n",
            "       'bin_years_remaining_> 10 Years', 'bin_years_remaining_Completed'],\n",
            "      dtype='object')\n"
          ]
        },
        {
          "data": {
            "image/png": "[encoded data removed]",
            "text/plain": [
              "<Figure size 432x288 with 1 Axes>"
            ]
          },
          "metadata": {
            "needs_background": "light"
          },
          "output_type": "display_data"
        },
        {
          "data": {
            "image/png": "[encoded data removed]",
            "text/plain": [
              "<Figure size 432x288 with 1 Axes>"
            ]
          },
          "metadata": {
            "needs_background": "light"
          },
          "output_type": "display_data"
        }
      ],
      "source": [
        "from matplotlib import pyplot\n",
        "from xgboost import plot_importance\n",
        "print(xgb1.feature_importances_)\n",
        "# plot\n",
        "\n",
        "print(X_train.columns)\n",
        "pyplot.bar(range(len(xgb1.feature_importances_)), xgb1.feature_importances_)\n",
        "pyplot.show()\n",
        "\n",
        "\n",
        "# plot feature importance\n",
        "plot_importance(xgb1)\n",
        "pyplot.show()\n",
        "\n"
      ]
    },
    {
      "cell_type": "code",
      "execution_count": null,
      "metadata": {
        "id": "eVz-o4rf2_op",
        "outputId": "f7dd9f85-217c-46dc-e72f-30703c9b50f7"
      },
      "outputs": [
        {
          "name": "stdout",
          "output_type": "stream",
          "text": [
            "Accuracy of the model is: 0.7966195170072783\n",
            "              precision    recall  f1-score   support\n",
            "\n",
            "     class 0       0.80      0.95      0.87    182415\n",
            "     class 1       1.00      1.00      1.00     18633\n",
            "     class 2       0.59      0.24      0.34     56430\n",
            "\n",
            "    accuracy                           0.80    257478\n",
            "   macro avg       0.80      0.73      0.74    257478\n",
            "weighted avg       0.77      0.80      0.76    257478\n",
            "\n"
          ]
        },
        {
          "data": {
            "image/png": "[encoded data removed]",
            "text/plain": [
              "<Figure size 432x288 with 2 Axes>"
            ]
          },
          "metadata": {
            "needs_background": "light"
          },
          "output_type": "display_data"
        }
      ],
      "source": [
        "from sklearn.metrics import ConfusionMatrixDisplay\n",
        "from sklearn.metrics import confusion_matrix\n",
        "from sklearn.metrics import precision_recall_curve\n",
        "\n",
        "import scikitplot as skplt\n",
        "y_pred = xgb1.predict(X_val)\n",
        "y_proba = xgb1.predict_proba(X_val)\n",
        "#clf.score(X_val, Y_val)\n",
        "\n",
        "\n",
        "\n",
        "\n",
        "\n",
        "accuracy_params(Y_val,y_pred)"
      ]
    },
    {
      "cell_type": "code",
      "execution_count": null,
      "metadata": {
        "id": "iQ_-46F_2_op",
        "outputId": "0e5623ef-22b2-4e88-b562-71312ce4944e"
      },
      "outputs": [
        {
          "name": "stdout",
          "output_type": "stream",
          "text": [
            "[1.7168610e-03 5.6503504e-04 4.0648662e-04 2.3670420e-03 4.8335944e-03\n",
            " 3.8838766e-03 3.5414854e-03 3.0673269e-04 2.5126527e-04 2.5850045e-04\n",
            " 6.6051453e-01 9.4347730e-02 2.6434040e-04 5.2371412e-04 5.4891646e-04\n",
            " 6.1140262e-04 2.6094595e-02 1.9762307e-01 2.8511486e-04 7.0870260e-04\n",
            " 3.4706175e-04]\n",
            "Index(['ni.age', 'len.at.res', 'premium', 'ni.marital.status', 'claim.ind',\n",
            "       'zone', 'n.family', 'house.color_red', 'house.color_white',\n",
            "       'house.color_yellow', 'credit_low', 'credit_medium', 'coverage.type_B',\n",
            "       'coverage.type_C', 'dwelling.type_House', 'dwelling.type_Tenant',\n",
            "       'sales.channel_Online', 'sales.channel_Phone', 'ni.gender_M',\n",
            "       'bin_years_remaining_Long_term', 'bin_years_remaining_Short_term'],\n",
            "      dtype='object')\n"
          ]
        },
        {
          "data": {
            "image/png": "[encoded data removed]",
            "text/plain": [
              "<Figure size 432x288 with 1 Axes>"
            ]
          },
          "metadata": {
            "needs_background": "light"
          },
          "output_type": "display_data"
        },
        {
          "data": {
            "image/png": "[encoded data removed]",
            "text/plain": [
              "<Figure size 432x288 with 1 Axes>"
            ]
          },
          "metadata": {
            "needs_background": "light"
          },
          "output_type": "display_data"
        }
      ],
      "source": [
        "from matplotlib import pyplot\n",
        "from xgboost import plot_importance\n",
        "print(xgb1.feature_importances_)\n",
        "# plot\n",
        "\n",
        "print(X_train.columns)\n",
        "pyplot.bar(range(len(xgb1.feature_importances_)), xgb1.feature_importances_)\n",
        "pyplot.show()\n",
        "\n",
        "\n",
        "# plot feature importance\n",
        "plot_importance(xgb1)\n",
        "pyplot.show()\n"
      ]
    },
    {
      "cell_type": "markdown",
      "metadata": {
        "id": "WAu53XTv2_op"
      },
      "source": [
        "## Testing the model with test_encode"
      ]
    },
    {
      "cell_type": "code",
      "execution_count": null,
      "metadata": {
        "id": "V067DwRP2_oq"
      },
      "outputs": [],
      "source": [
        "df = pd.DataFrame()\n",
        "\n",
        "y = xgb1.predict(test_encode)\n",
        "df['predictions'] = y\n",
        "df.to_csv(\"/cis/home/achatto1/new_project/final_result1.csv\")"
      ]
    }
  ],
  "metadata": {
    "kernelspec": {
      "display_name": "Python 3",
      "language": "python",
      "name": "python3"
    },
    "colab": {
      "provenance": []
    }
  },
  "nbformat": 4,
  "nbformat_minor": 0
}